{
 "cells": [
  {
   "cell_type": "code",
   "execution_count": 1,
   "id": "3a4d5514",
   "metadata": {},
   "outputs": [],
   "source": [
    "import pandas as pd\n",
    "import numpy as np"
   ]
  },
  {
   "cell_type": "markdown",
   "id": "25135759",
   "metadata": {},
   "source": [
    "# mESC"
   ]
  },
  {
   "cell_type": "markdown",
   "id": "3b80233c",
   "metadata": {},
   "source": [
    "Amadei dataset. (mouse embryos)."
   ]
  },
  {
   "cell_type": "code",
   "execution_count": 43,
   "id": "64b6e4ac",
   "metadata": {},
   "outputs": [],
   "source": [
    "data_dir = '/home/ggorin/count_data/amadei/'"
   ]
  },
  {
   "cell_type": "code",
   "execution_count": 44,
   "id": "4cfd7f8e",
   "metadata": {},
   "outputs": [],
   "source": [
    "names = ['NE{}_{}'.format(x,str(y)) for x in ['65','75'] for y in range(1,3)]+['NE85_{}'.format(str(x)) for x in range(1,7)]"
   ]
  },
  {
   "cell_type": "code",
   "execution_count": 48,
   "id": "8af30f1e",
   "metadata": {},
   "outputs": [],
   "source": [
    "import xlrd\n",
    "xlrd.xlsx.ensure_elementtree_imported(False, None)\n",
    "xlrd.xlsx.Element_has_iter = True"
   ]
  },
  {
   "cell_type": "code",
   "execution_count": 49,
   "id": "06617be8",
   "metadata": {},
   "outputs": [
    {
     "name": "stderr",
     "output_type": "stream",
     "text": [
      "/tmp/ipykernel_1396580/3630299904.py:1: FutureWarning: Your version of xlrd is 1.2.0. In xlrd >= 2.0, only the xls format is supported. As a result, the openpyxl engine will be used if it is installed and the engine argument is not specified. Install openpyxl instead.\n",
      "  meta = pd.read_excel(data_dir+'meta.xlsx')\n"
     ]
    }
   ],
   "source": [
    "meta = pd.read_excel(data_dir+'meta.xlsx')"
   ]
  },
  {
   "cell_type": "code",
   "execution_count": 53,
   "id": "157978ed",
   "metadata": {},
   "outputs": [
    {
     "data": {
      "text/html": [
       "<div>\n",
       "<style scoped>\n",
       "    .dataframe tbody tr th:only-of-type {\n",
       "        vertical-align: middle;\n",
       "    }\n",
       "\n",
       "    .dataframe tbody tr th {\n",
       "        vertical-align: top;\n",
       "    }\n",
       "\n",
       "    .dataframe thead th {\n",
       "        text-align: right;\n",
       "    }\n",
       "</style>\n",
       "<table border=\"1\" class=\"dataframe\">\n",
       "  <thead>\n",
       "    <tr style=\"text-align: right;\">\n",
       "      <th></th>\n",
       "      <th>celltype</th>\n",
       "      <th>latent_time</th>\n",
       "      <th>type</th>\n",
       "      <th>UMAP_1</th>\n",
       "      <th>UMAP_2</th>\n",
       "    </tr>\n",
       "    <tr>\n",
       "      <th>barcode</th>\n",
       "      <th></th>\n",
       "      <th></th>\n",
       "      <th></th>\n",
       "      <th></th>\n",
       "      <th></th>\n",
       "    </tr>\n",
       "  </thead>\n",
       "  <tbody>\n",
       "    <tr>\n",
       "      <th>AAACACGGTGGTAACGCCGTGTTT</th>\n",
       "      <td>Epiblast</td>\n",
       "      <td>0.524328</td>\n",
       "      <td>Synthetic</td>\n",
       "      <td>-0.249567</td>\n",
       "      <td>0.602579</td>\n",
       "    </tr>\n",
       "    <tr>\n",
       "      <th>AAACACGGTGGTAACGGACAACTT</th>\n",
       "      <td>Gut precursors</td>\n",
       "      <td>0.877421</td>\n",
       "      <td>Synthetic</td>\n",
       "      <td>13.514733</td>\n",
       "      <td>0.282939</td>\n",
       "    </tr>\n",
       "    <tr>\n",
       "      <th>AAACACTATGGTAACGCAGTTTGC</th>\n",
       "      <td>Epiblast</td>\n",
       "      <td>0.501554</td>\n",
       "      <td>Synthetic</td>\n",
       "      <td>-2.048857</td>\n",
       "      <td>-0.758087</td>\n",
       "    </tr>\n",
       "    <tr>\n",
       "      <th>AAACTGTGTGGTAACGTCCCGTAG</th>\n",
       "      <td>Epiblast</td>\n",
       "      <td>0.611674</td>\n",
       "      <td>Synthetic</td>\n",
       "      <td>1.404837</td>\n",
       "      <td>1.976268</td>\n",
       "    </tr>\n",
       "    <tr>\n",
       "      <th>AAAGAAAGTGGTAACGAATCGGGT</th>\n",
       "      <td>Definitive endoderm</td>\n",
       "      <td>0.439383</td>\n",
       "      <td>Synthetic</td>\n",
       "      <td>-1.234815</td>\n",
       "      <td>-5.289140</td>\n",
       "    </tr>\n",
       "    <tr>\n",
       "      <th>...</th>\n",
       "      <td>...</td>\n",
       "      <td>...</td>\n",
       "      <td>...</td>\n",
       "      <td>...</td>\n",
       "      <td>...</td>\n",
       "    </tr>\n",
       "    <tr>\n",
       "      <th>TGCACCAGCTTGCAGATGTGGCTA</th>\n",
       "      <td>Epiblast</td>\n",
       "      <td>0.039232</td>\n",
       "      <td>natural</td>\n",
       "      <td>NaN</td>\n",
       "      <td>NaN</td>\n",
       "    </tr>\n",
       "    <tr>\n",
       "      <th>TGCGACTACTTGCAGAGGTGACAC</th>\n",
       "      <td>Epiblast</td>\n",
       "      <td>0.094287</td>\n",
       "      <td>natural</td>\n",
       "      <td>NaN</td>\n",
       "      <td>NaN</td>\n",
       "    </tr>\n",
       "    <tr>\n",
       "      <th>TGGACGGACTTGCAGAATCCCACG</th>\n",
       "      <td>Definitive endoderm</td>\n",
       "      <td>0.314687</td>\n",
       "      <td>natural</td>\n",
       "      <td>NaN</td>\n",
       "      <td>NaN</td>\n",
       "    </tr>\n",
       "    <tr>\n",
       "      <th>TGGCTAGTCTTGCAGATGCTATTT</th>\n",
       "      <td>Primitive streak</td>\n",
       "      <td>0.095723</td>\n",
       "      <td>natural</td>\n",
       "      <td>NaN</td>\n",
       "      <td>NaN</td>\n",
       "    </tr>\n",
       "    <tr>\n",
       "      <th>TGGTTAACCTTGCAGATTGGACTT</th>\n",
       "      <td>Primitive streak</td>\n",
       "      <td>0.127384</td>\n",
       "      <td>natural</td>\n",
       "      <td>NaN</td>\n",
       "      <td>NaN</td>\n",
       "    </tr>\n",
       "  </tbody>\n",
       "</table>\n",
       "<p>5419 rows × 5 columns</p>\n",
       "</div>"
      ],
      "text/plain": [
       "                                     celltype  latent_time       type  \\\n",
       "barcode                                                                 \n",
       "AAACACGGTGGTAACGCCGTGTTT             Epiblast     0.524328  Synthetic   \n",
       "AAACACGGTGGTAACGGACAACTT       Gut precursors     0.877421  Synthetic   \n",
       "AAACACTATGGTAACGCAGTTTGC             Epiblast     0.501554  Synthetic   \n",
       "AAACTGTGTGGTAACGTCCCGTAG             Epiblast     0.611674  Synthetic   \n",
       "AAAGAAAGTGGTAACGAATCGGGT  Definitive endoderm     0.439383  Synthetic   \n",
       "...                                       ...          ...        ...   \n",
       "TGCACCAGCTTGCAGATGTGGCTA             Epiblast     0.039232    natural   \n",
       "TGCGACTACTTGCAGAGGTGACAC             Epiblast     0.094287    natural   \n",
       "TGGACGGACTTGCAGAATCCCACG  Definitive endoderm     0.314687    natural   \n",
       "TGGCTAGTCTTGCAGATGCTATTT     Primitive streak     0.095723    natural   \n",
       "TGGTTAACCTTGCAGATTGGACTT     Primitive streak     0.127384    natural   \n",
       "\n",
       "                             UMAP_1    UMAP_2  \n",
       "barcode                                        \n",
       "AAACACGGTGGTAACGCCGTGTTT  -0.249567  0.602579  \n",
       "AAACACGGTGGTAACGGACAACTT  13.514733  0.282939  \n",
       "AAACACTATGGTAACGCAGTTTGC  -2.048857 -0.758087  \n",
       "AAACTGTGTGGTAACGTCCCGTAG   1.404837  1.976268  \n",
       "AAAGAAAGTGGTAACGAATCGGGT  -1.234815 -5.289140  \n",
       "...                             ...       ...  \n",
       "TGCACCAGCTTGCAGATGTGGCTA        NaN       NaN  \n",
       "TGCGACTACTTGCAGAGGTGACAC        NaN       NaN  \n",
       "TGGACGGACTTGCAGAATCCCACG        NaN       NaN  \n",
       "TGGCTAGTCTTGCAGATGCTATTT        NaN       NaN  \n",
       "TGGTTAACCTTGCAGATTGGACTT        NaN       NaN  \n",
       "\n",
       "[5419 rows x 5 columns]"
      ]
     },
     "execution_count": 53,
     "metadata": {},
     "output_type": "execute_result"
    }
   ],
   "source": [
    "meta.set_index('barcode')"
   ]
  },
  {
   "cell_type": "code",
   "execution_count": 69,
   "id": "0ff6026f",
   "metadata": {},
   "outputs": [],
   "source": [
    "meta_bcs = meta['barcode']"
   ]
  },
  {
   "cell_type": "code",
   "execution_count": 90,
   "id": "5fa1be6c",
   "metadata": {},
   "outputs": [],
   "source": [
    "meta_bcs_natural = meta['barcode'][meta['type']=='natural']"
   ]
  },
  {
   "cell_type": "code",
   "execution_count": 95,
   "id": "d44ecb05",
   "metadata": {},
   "outputs": [
    {
     "name": "stdout",
     "output_type": "stream",
     "text": [
      "5419 annotated barcodes.\n",
      "\n",
      "2653 annotated natural barcodes.\n",
      "\n",
      "Dataset: NE65_1\n",
      "\t3312 barcodes.\n",
      "\t157 are in metadata.\n",
      "Dataset: NE65_2\n",
      "\t2442 barcodes.\n",
      "\t104 are in metadata.\n",
      "Dataset: NE75_1\n",
      "\t6250 barcodes.\n",
      "\t806 are in metadata.\n",
      "Dataset: NE75_2\n",
      "\t8455 barcodes.\n",
      "\t548 are in metadata.\n",
      "Dataset: NE85_1\n",
      "\t11875 barcodes.\n",
      "\t116 are in metadata.\n",
      "Dataset: NE85_2\n",
      "\t9122 barcodes.\n",
      "\t561 are in metadata.\n",
      "Dataset: NE85_3\n",
      "\t12397 barcodes.\n",
      "\t14 are in metadata.\n",
      "Dataset: NE85_4\n",
      "\t11662 barcodes.\n",
      "\t84 are in metadata.\n",
      "Dataset: NE85_5\n",
      "\t11737 barcodes.\n",
      "\t241 are in metadata.\n",
      "Dataset: NE85_6\n",
      "\t12596 barcodes.\n",
      "\t101 are in metadata.\n",
      "2732 total data barcodes in metadata.\n",
      "2732 are unique.\n",
      "2597 are labeled as natural in metadata.\n"
     ]
    }
   ],
   "source": [
    "print(f'{len(meta_bcs)} annotated barcodes.\\n')\n",
    "print(f'{len(meta_bcs_natural)} annotated natural barcodes.\\n')\n",
    "\n",
    "data_bcs_all = []\n",
    "for data_ind, dataset in enumerate(names):\n",
    "    print(f'Dataset: {dataset}')\n",
    "    data_str = '/home/ggorin/count_data/amadei/{}.inex.txt'.format(dataset)\n",
    "    df = pd.read_csv(data_str,sep='\\t',nrows = 1 )\n",
    "    data_bcs = df.columns.str[-24:]\n",
    "    print(f'\\t{len(data_bcs)} barcodes.')\n",
    "    data_bcs_in_meta = data_bcs[data_bcs.isin(meta_bcs)]\n",
    "    print(f'\\t{len(data_bcs_in_meta)} are in metadata.')\n",
    "    data_bcs_all.append(data_bcs_in_meta)\n",
    "data_bcs_all = np.concatenate(data_bcs_all)\n",
    "print(f'{len(data_bcs_all)} total data barcodes in metadata.')\n",
    "print(f'{len(np.unique(data_bcs_all))} are unique.')\n",
    "data_bcs_in_meta = data_bcs_all[pd.Series(data_bcs_all).isin(meta_bcs_natural)]\n",
    "print(f'{len(data_bcs_in_meta)} are labeled as natural in metadata.')\n"
   ]
  },
  {
   "cell_type": "markdown",
   "id": "6da59069",
   "metadata": {},
   "source": [
    "# MEFs"
   ]
  },
  {
   "cell_type": "markdown",
   "id": "f16c9a63",
   "metadata": {},
   "source": [
    "Schiebinger 2019. Reprogramming."
   ]
  },
  {
   "cell_type": "code",
   "execution_count": 7,
   "id": "1de1e323",
   "metadata": {},
   "outputs": [],
   "source": [
    "# import scanpy as sc\n",
    "# import anndata as ad\n",
    "import h5py "
   ]
  },
  {
   "cell_type": "code",
   "execution_count": 10,
   "id": "b0f44ae6",
   "metadata": {},
   "outputs": [],
   "source": [
    "f = h5py.File('/home/ggorin/count_data/schiebinger/GSM3195680_D8_Dox_C1_gene_bc_mat.h5','r')"
   ]
  },
  {
   "cell_type": "code",
   "execution_count": 18,
   "id": "754e9f13",
   "metadata": {},
   "outputs": [
    {
     "data": {
      "text/plain": [
       "<KeysViewHDF5 ['barcodes', 'data', 'gene_names', 'genes', 'indices', 'indptr', 'shape']>"
      ]
     },
     "execution_count": 18,
     "metadata": {},
     "output_type": "execute_result"
    }
   ],
   "source": [
    "f['mm10'].keys()"
   ]
  },
  {
   "cell_type": "code",
   "execution_count": 24,
   "id": "a773fa09",
   "metadata": {},
   "outputs": [
    {
     "data": {
      "text/plain": [
       "<HDF5 dataset \"data\": shape (3370222,), type \"<i4\">"
      ]
     },
     "execution_count": 24,
     "metadata": {},
     "output_type": "execute_result"
    }
   ],
   "source": [
    "f['mm10']['data']"
   ]
  },
  {
   "cell_type": "code",
   "execution_count": 32,
   "id": "ca446c80",
   "metadata": {},
   "outputs": [
    {
     "data": {
      "text/plain": [
       "array([27994, 27920, 27919, 27918, 27917, 27915, 27914, 27913, 27911,\n",
       "       27910])"
      ]
     },
     "execution_count": 32,
     "metadata": {},
     "output_type": "execute_result"
    }
   ],
   "source": [
    "f['mm10']['indices'][:10]"
   ]
  },
  {
   "cell_type": "code",
   "execution_count": 33,
   "id": "0c2a8c1a",
   "metadata": {},
   "outputs": [],
   "source": [
    "# np.reshape(f['mm10']['data'],f['mm10']['shape'])"
   ]
  },
  {
   "cell_type": "code",
   "execution_count": null,
   "id": "8ac920f3",
   "metadata": {},
   "outputs": [],
   "source": []
  }
 ],
 "metadata": {
  "kernelspec": {
   "display_name": "Python 3",
   "language": "python",
   "name": "python3"
  },
  "language_info": {
   "codemirror_mode": {
    "name": "ipython",
    "version": 3
   },
   "file_extension": ".py",
   "mimetype": "text/x-python",
   "name": "python",
   "nbconvert_exporter": "python",
   "pygments_lexer": "ipython3",
   "version": "3.9.1"
  }
 },
 "nbformat": 4,
 "nbformat_minor": 5
}
