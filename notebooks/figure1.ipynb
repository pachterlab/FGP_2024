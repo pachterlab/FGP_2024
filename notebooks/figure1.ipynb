{
 "cells": [
  {
   "cell_type": "code",
   "execution_count": 35,
   "id": "d3ce2934",
   "metadata": {},
   "outputs": [
    {
     "name": "stdout",
     "output_type": "stream",
     "text": [
      "/home/mffang/workspace/Poisson-regression/RADOM\n"
     ]
    }
   ],
   "source": [
    "%cd ../RADOM\n",
    "\n",
    "# restrict numpy to use only one core, otherwise it will use all cores when doing @\n",
    "import os\n",
    "os.environ[\"BLAS_NUM_THREADS\"] = \"1\" \n",
    "os.environ[\"OPENBLAS_NUM_THREADS\"] = \"1\" # \n",
    "\n",
    "\n",
    "from inference import Trajectory\n",
    "from plotting import *\n",
    "from models.two_species import get_Y\n",
    "\n",
    "import numpy as np\n",
    "import pickle\n",
    "from tqdm import tqdm\n",
    "import matplotlib.pyplot as plt\n",
    "from scipy import stats\n",
    "import copy\n",
    "import seaborn as sns"
   ]
  },
  {
   "cell_type": "code",
   "execution_count": 38,
   "id": "909cb058",
   "metadata": {},
   "outputs": [],
   "source": [
    "topo = np.array([[0,1]])\n",
    "tau = (0,1,2)\n",
    "n=100\n",
    "p=1\n",
    "\n",
    "np.random.seed(42)\n",
    "L=len(topo)\n",
    "n_states=len(set(topo.flatten()))\n",
    "t=np.append(np.random.uniform(tau[0],tau[-1],n),np.random.uniform(0.5,1.5,n))\n",
    "\n",
    "\n",
    "theta=np.zeros((p,n_states+4))\n",
    "theta[:,0]=10\n",
    "theta[:,1]=20\n",
    "theta[:,-4]=0\n",
    "theta[:,-3]=0\n",
    "theta[:,-2]=10\n",
    "theta[:,-1]=20\n",
    "\n",
    "Y = get_Y(theta,t,tau) # m*p*2\n",
    "X = np.random.poisson(Y)"
   ]
  },
  {
   "cell_type": "code",
   "execution_count": 52,
   "id": "79b188d6",
   "metadata": {},
   "outputs": [
    {
     "data": {
      "image/png": "[encoded data removed]",
      "text/plain": [
       "<Figure size 432x288 with 1 Axes>"
      ]
     },
     "metadata": {
      "needs_background": "light"
     },
     "output_type": "display_data"
    }
   ],
   "source": [
    "plt.scatter(t,X[:,0,0],c=\"k\",s=2);\n",
    "plt.axis('off');"
   ]
  },
  {
   "cell_type": "code",
   "execution_count": 48,
   "id": "58a5510d",
   "metadata": {},
   "outputs": [
    {
     "data": {
      "image/png": "[encoded data removed]",
      "text/plain": [
       "<Figure size 432x288 with 1 Axes>"
      ]
     },
     "metadata": {
      "needs_background": "light"
     },
     "output_type": "display_data"
    }
   ],
   "source": [
    "sns.kdeplot(X[:,0,0],fill=True,color='r');\n",
    "plt.axis('off');"
   ]
  },
  {
   "cell_type": "code",
   "execution_count": 49,
   "id": "0e60ec58",
   "metadata": {},
   "outputs": [
    {
     "data": {
      "image/png": "[encoded data removed]",
      "text/plain": [
       "<Figure size 432x288 with 1 Axes>"
      ]
     },
     "metadata": {
      "needs_background": "light"
     },
     "output_type": "display_data"
    }
   ],
   "source": [
    "sns.kdeplot(t,fill=True);\n",
    "plt.axis('off');"
   ]
  },
  {
   "cell_type": "code",
   "execution_count": null,
   "id": "98785c73",
   "metadata": {},
   "outputs": [],
   "source": []
  }
 ],
 "metadata": {
  "kernelspec": {
   "display_name": "Python 3 (ipykernel)",
   "language": "python",
   "name": "python3"
  },
  "language_info": {
   "codemirror_mode": {
    "name": "ipython",
    "version": 3
   },
   "file_extension": ".py",
   "mimetype": "text/x-python",
   "name": "python",
   "nbconvert_exporter": "python",
   "pygments_lexer": "ipython3",
   "version": "3.9.12"
  }
 },
 "nbformat": 4,
 "nbformat_minor": 5
}
