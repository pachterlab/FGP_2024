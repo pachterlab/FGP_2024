{
 "cells": [
  {
   "cell_type": "code",
   "execution_count": 1,
   "id": "f1d48d85",
   "metadata": {},
   "outputs": [
    {
     "name": "stdout",
     "output_type": "stream",
     "text": [
      "/home/mffang/workspace/Poisson-regression/RADOM\n"
     ]
    }
   ],
   "source": [
    "%cd ../RADOM\n",
    "\n",
    "# Load before numpy to restrict its usage of cores, otherwise it will use all cores when doing @\n",
    "import os\n",
    "os.environ[\"BLAS_NUM_THREADS\"] = \"1\" \n",
    "os.environ[\"OPENBLAS_NUM_THREADS\"] = \"1\" # \n",
    "\n",
    "from inference import Trajectory\n",
    "from plotting import *\n",
    "from models.two_species import get_Y"
   ]
  },
  {
   "cell_type": "code",
   "execution_count": 213,
   "id": "05e56446",
   "metadata": {},
   "outputs": [],
   "source": [
    "import time\n",
    "import numpy as np\n",
    "import scipy\n",
    "import matplotlib.pyplot as plt\n",
    "from sklearn.decomposition import PCA\n",
    "import pandas as pd\n",
    "import scanpy as sc\n",
    "import os"
   ]
  },
  {
   "cell_type": "markdown",
   "id": "918796f8",
   "metadata": {},
   "source": [
    "# Preprocessing"
   ]
  },
  {
   "cell_type": "markdown",
   "id": "c16a91db",
   "metadata": {},
   "source": [
    "**check whitelist**"
   ]
  },
  {
   "cell_type": "code",
   "execution_count": 117,
   "id": "0c050106",
   "metadata": {},
   "outputs": [],
   "source": [
    "whitelist = np.loadtxt(\"/home/mffang/counts/Amadei/SRR17020581/indrops_version3_whitelist.txt\",dtype=str)"
   ]
  },
  {
   "cell_type": "code",
   "execution_count": 118,
   "id": "d8646547",
   "metadata": {},
   "outputs": [
    {
     "data": {
      "text/plain": [
       "AnnData object with n_obs × n_vars = 9122 × 24509"
      ]
     },
     "execution_count": 118,
     "metadata": {},
     "output_type": "execute_result"
    }
   ],
   "source": [
    "their_data = sc.read(\"/home/mffang/counts/Amadei/GSE189425_RAW/GSM5701544_NE85_2.inex.txt\")\n",
    "their_data = their_data.T\n",
    "their_data"
   ]
  },
  {
   "cell_type": "code",
   "execution_count": 119,
   "id": "163cd3f2",
   "metadata": {},
   "outputs": [],
   "source": [
    "their_barcodes = []\n",
    "for name in list(their_data.obs_names):\n",
    "    barcode = name.split('_')[3]\n",
    "    their_barcodes.append(barcode[:8]+barcode[-8:])"
   ]
  },
  {
   "cell_type": "code",
   "execution_count": 120,
   "id": "4af73560",
   "metadata": {},
   "outputs": [
    {
     "name": "stdout",
     "output_type": "stream",
     "text": [
      "8856\n"
     ]
    }
   ],
   "source": [
    "inwhitelist = [their_barcodes[i] in whitelist for i in range(len(their_barcodes))]\n",
    "print(np.sum(inwhitelist))"
   ]
  },
  {
   "cell_type": "markdown",
   "id": "2b28c054",
   "metadata": {},
   "source": [
    "Therefore, the default whitelist does not contain all barcodes"
   ]
  },
  {
   "cell_type": "markdown",
   "id": "cc5e476b",
   "metadata": {},
   "source": [
    "**generate whitelist**"
   ]
  },
  {
   "cell_type": "code",
   "execution_count": 132,
   "id": "13d66f62",
   "metadata": {},
   "outputs": [
    {
     "name": "stdout",
     "output_type": "stream",
     "text": [
      "GSM5701532_ETiX_d8_2.inex.txt\n",
      "10294\n",
      "GSM5701546_NE85_4.inex.txt\n",
      "20985\n",
      "GSM5701535_ETiX_d8_5.inex.txt\n",
      "31793\n",
      "GSM5701523_ETiX_d5_2.inex.txt\n",
      "35427\n",
      "GSM5701522_ETiX_d5_1.inex.txt\n",
      "39092\n",
      "GSM5701545_NE85_3.inex.txt\n",
      "46435\n",
      "GSM5701529_ETiX_d6_5.inex.txt\n",
      "52973\n",
      "GSM5701537_ETiX_d8_EXE_1.inex.txt\n",
      "60247\n",
      "GSM5701534_ETiX_d8_4.inex.txt\n",
      "68212\n",
      "GSM5701547_NE85_5.inex.txt\n",
      "72519\n",
      "GSM5701548_NE85_6.inex.txt\n",
      "76507\n",
      "GSM5701542_NE75_2.inex.txt\n",
      "80188\n",
      "GSM5701549_NE85_EXE.inex.txt\n",
      "85956\n",
      "GSM5701526_ETiX_d6_2.inex.txt\n",
      "87092\n",
      "GSM5701528_ETiX_d6_4.inex.txt\n",
      "88637\n",
      "GSM5701541_NE75_1.inex.txt\n",
      "90875\n",
      "GSM5701531_ETiX_d8_1.inex.txt\n",
      "93477\n",
      "GSM5701533_ETiX_d8_3.inex.txt\n",
      "96507\n",
      "GSM5701539_NE65_1.inex.txt\n",
      "97549\n",
      "GSM5701524_ETiX_d5_3.inex.txt\n",
      "98700\n",
      "GSM5701538_ETiX_d8_EXE_2.inex.txt\n",
      "101867\n",
      "GSM5701536_ETiX_d8_6.inex.txt\n",
      "105479\n",
      "GSM5701540_NE65_2.inex.txt\n",
      "106163\n",
      "GSM5701525_ETiX_d6_1.inex.txt\n",
      "106917\n",
      "GSM5701543_NE85_1.inex.txt\n",
      "108579\n",
      "GSM5701544_NE85_2.inex.txt\n",
      "109723\n",
      "GSM5701530_ETiX_d6_6.inex.txt\n",
      "110759\n",
      "GSM5701527_ETiX_d6_3.inex.txt\n",
      "111291\n"
     ]
    }
   ],
   "source": [
    "dir_name = \"/home/mffang/counts/Amadei/GSE189425_RAW/\"\n",
    "files = os.listdir(dir_name)\n",
    "whitelist = []\n",
    "for file in files:\n",
    "    if file[:3]==\"GSM\":\n",
    "        print(file)\n",
    "        df = pd.read_csv(dir_name+file, delimiter = \"\\t\")\n",
    "        for name in list(df.columns):\n",
    "            barcode = name.split('_')[-1]\n",
    "            barcode = barcode[:8]+barcode[-8:]\n",
    "            if barcode not in whitelist:\n",
    "                whitelist.append(barcode)\n",
    "        print(len(whitelist))"
   ]
  },
  {
   "cell_type": "code",
   "execution_count": 143,
   "id": "722c109e",
   "metadata": {},
   "outputs": [],
   "source": [
    "whitelist = np.sort(whitelist)"
   ]
  },
  {
   "cell_type": "code",
   "execution_count": 146,
   "id": "c8bd19fc",
   "metadata": {},
   "outputs": [],
   "source": [
    "np.savetxt(\"/home/mffang/counts/Amadei/whitelist.txt\",whitelist,fmt=\"%s\",delimiter='\\n')"
   ]
  },
  {
   "cell_type": "markdown",
   "id": "7678ab94",
   "metadata": {},
   "source": [
    "# Analysis"
   ]
  },
  {
   "cell_type": "code",
   "execution_count": 172,
   "id": "80299210",
   "metadata": {},
   "outputs": [
    {
     "data": {
      "text/plain": [
       "AnnData object with n_obs × n_vars = 27900 × 55471\n",
       "    var: 'gene_name'\n",
       "    layers: 'spliced', 'unspliced'"
      ]
     },
     "execution_count": 172,
     "metadata": {},
     "output_type": "execute_result"
    }
   ],
   "source": [
    "adata = sc.read(\"/home/mffang/counts/Amadei/SRR17020582/counts_filtered/adata.h5ad\")\n",
    "adata"
   ]
  },
  {
   "cell_type": "code",
   "execution_count": 173,
   "id": "80325e57",
   "metadata": {},
   "outputs": [
    {
     "data": {
      "text/plain": [
       "AnnData object with n_obs × n_vars = 11875 × 23449"
      ]
     },
     "execution_count": 173,
     "metadata": {},
     "output_type": "execute_result"
    }
   ],
   "source": [
    "their_data = sc.read(\"/home/mffang/counts/Amadei/GSE189425_RAW/GSM5701543_NE85_1.inex.txt\")\n",
    "their_data = their_data.T\n",
    "their_data"
   ]
  },
  {
   "cell_type": "code",
   "execution_count": 198,
   "id": "1649fe8d",
   "metadata": {},
   "outputs": [
    {
     "data": {
      "text/html": [
       "<div>\n",
       "<style scoped>\n",
       "    .dataframe tbody tr th:only-of-type {\n",
       "        vertical-align: middle;\n",
       "    }\n",
       "\n",
       "    .dataframe tbody tr th {\n",
       "        vertical-align: top;\n",
       "    }\n",
       "\n",
       "    .dataframe thead th {\n",
       "        text-align: right;\n",
       "    }\n",
       "</style>\n",
       "<table border=\"1\" class=\"dataframe\">\n",
       "  <thead>\n",
       "    <tr style=\"text-align: right;\">\n",
       "      <th></th>\n",
       "    </tr>\n",
       "  </thead>\n",
       "  <tbody>\n",
       "    <tr>\n",
       "      <th>n_E85_1_AAACAAACTGGTAACGAACCCTTG</th>\n",
       "    </tr>\n",
       "    <tr>\n",
       "      <th>n_E85_1_AAACAAACTGGTAACGACATCTAT</th>\n",
       "    </tr>\n",
       "    <tr>\n",
       "      <th>n_E85_1_AAACAAACTGGTAACGAGCGCCTT</th>\n",
       "    </tr>\n",
       "    <tr>\n",
       "      <th>n_E85_1_AAACAAACTGGTAACGAGGTTGTG</th>\n",
       "    </tr>\n",
       "    <tr>\n",
       "      <th>n_E85_1_AAACAAACTGGTAACGAGTTTAGA</th>\n",
       "    </tr>\n",
       "    <tr>\n",
       "      <th>...</th>\n",
       "    </tr>\n",
       "    <tr>\n",
       "      <th>n_E85_1_TGTTATCATGGTAACGTGCCATCG</th>\n",
       "    </tr>\n",
       "    <tr>\n",
       "      <th>n_E85_1_TGTTATCATGGTAACGTGGTATGA</th>\n",
       "    </tr>\n",
       "    <tr>\n",
       "      <th>n_E85_1_TGTTATCATGGTAACGTGTGGCTA</th>\n",
       "    </tr>\n",
       "    <tr>\n",
       "      <th>n_E85_1_TGTTATCATGGTAACGTTCGGCCT</th>\n",
       "    </tr>\n",
       "    <tr>\n",
       "      <th>n_E85_1_TGTTATCATGGTAACGTTGTGACT</th>\n",
       "    </tr>\n",
       "  </tbody>\n",
       "</table>\n",
       "<p>11875 rows × 0 columns</p>\n",
       "</div>"
      ],
      "text/plain": [
       "Empty DataFrame\n",
       "Columns: []\n",
       "Index: [n_E85_1_AAACAAACTGGTAACGAACCCTTG, n_E85_1_AAACAAACTGGTAACGACATCTAT, n_E85_1_AAACAAACTGGTAACGAGCGCCTT, n_E85_1_AAACAAACTGGTAACGAGGTTGTG, n_E85_1_AAACAAACTGGTAACGAGTTTAGA, n_E85_1_AAACAAACTGGTAACGATATACCT, n_E85_1_AAACAAACTGGTAACGATGACCGA, n_E85_1_AAACAAACTGGTAACGCAACAAAT, n_E85_1_AAACAAACTGGTAACGCAAGTCAT, n_E85_1_AAACAAACTGGTAACGCAATACTT, n_E85_1_AAACAAACTGGTAACGCACAGTTT, n_E85_1_AAACAAACTGGTAACGCACGGACT, n_E85_1_AAACAAACTGGTAACGCAGTCCCT, n_E85_1_AAACAAACTGGTAACGCCACATTA, n_E85_1_AAACAAACTGGTAACGCGCTAATA, n_E85_1_AAACAAACTGGTAACGCTCCGCAT, n_E85_1_AAACAAACTGGTAACGCTGTCTGG, n_E85_1_AAACAAACTGGTAACGGAGAGTAT, n_E85_1_AAACAAACTGGTAACGGATCTCGG, n_E85_1_AAACAAACTGGTAACGGCAGTCGA, n_E85_1_AAACAAACTGGTAACGTAAATAGG, n_E85_1_AAACAAACTGGTAACGTAACTACT, n_E85_1_AAACAAACTGGTAACGTACAAACT, n_E85_1_AAACAAACTGGTAACGTACAGCCG, n_E85_1_AAACAAACTGGTAACGTAGAAATG, n_E85_1_AAACAAACTGGTAACGTCCCTGAT, n_E85_1_AAACAAACTGGTAACGTTCGCTGG, n_E85_1_AAACAAACTGGTAACGTTGCATAT, n_E85_1_AAACACGGTGGTAACGAAAGTCGG, n_E85_1_AAACACGGTGGTAACGACGTATAC, n_E85_1_AAACACGGTGGTAACGAGAAGTTA, n_E85_1_AAACACGGTGGTAACGAGGTTGTG, n_E85_1_AAACACGGTGGTAACGATCAAGTG, n_E85_1_AAACACGGTGGTAACGATGAAGCA, n_E85_1_AAACACGGTGGTAACGCGAGTCTG, n_E85_1_AAACACGGTGGTAACGCTTCTGGA, n_E85_1_AAACACGGTGGTAACGCTTTCTTT, n_E85_1_AAACACGGTGGTAACGGAGCCCAT, n_E85_1_AAACACGGTGGTAACGGATCTCGG, n_E85_1_AAACACGGTGGTAACGGCAGTCGA, n_E85_1_AAACACGGTGGTAACGGGGTGTAT, n_E85_1_AAACACGGTGGTAACGGTCAAAGA, n_E85_1_AAACACGGTGGTAACGGTCAATAC, n_E85_1_AAACACGGTGGTAACGGTGGATGG, n_E85_1_AAACACGGTGGTAACGGTTGTCAT, n_E85_1_AAACACGGTGGTAACGTAAATAGG, n_E85_1_AAACACGGTGGTAACGTAAGACGG, n_E85_1_AAACACGGTGGTAACGTACTTGTG, n_E85_1_AAACACGGTGGTAACGTGCTATTT, n_E85_1_AAACACGGTGGTAACGTTTACCCT, n_E85_1_AAACACTATGGTAACGAAGGTAAT, n_E85_1_AAACACTATGGTAACGAGCACCAC, n_E85_1_AAACACTATGGTAACGAGTTTAGA, n_E85_1_AAACACTATGGTAACGATCAAGTG, n_E85_1_AAACACTATGGTAACGATTCCTTG, n_E85_1_AAACACTATGGTAACGCAGACCAT, n_E85_1_AAACACTATGGTAACGCAGTCCCT, n_E85_1_AAACACTATGGTAACGCCACATTA, n_E85_1_AAACACTATGGTAACGCCCAAGCA, n_E85_1_AAACACTATGGTAACGCCCGAATG, n_E85_1_AAACACTATGGTAACGCCTATTCA, n_E85_1_AAACACTATGGTAACGCTCAGAAT, n_E85_1_AAACACTATGGTAACGCTTAGGTA, n_E85_1_AAACACTATGGTAACGCTTCTTCG, n_E85_1_AAACACTATGGTAACGGTTAACCA, n_E85_1_AAACACTATGGTAACGGTTACGAT, n_E85_1_AAACACTATGGTAACGTACAAACT, n_E85_1_AAACACTATGGTAACGTCCCTGAT, n_E85_1_AAACACTATGGTAACGTGTGCTCA, n_E85_1_AAACACTATGGTAACGTTTACCCT, n_E85_1_AAACCGCCTGGTAACGAAACAGGG, n_E85_1_AAACCGCCTGGTAACGAAATGTCG, n_E85_1_AAACCGCCTGGTAACGAACCTGAC, n_E85_1_AAACCGCCTGGTAACGAAGATTGT, n_E85_1_AAACCGCCTGGTAACGAAGCGTAC, n_E85_1_AAACCGCCTGGTAACGAAGGTAAT, n_E85_1_AAACCGCCTGGTAACGACAGCGGA, n_E85_1_AAACCGCCTGGTAACGACATCTAT, n_E85_1_AAACCGCCTGGTAACGACCTTCTT, n_E85_1_AAACCGCCTGGTAACGAGAGACTA, n_E85_1_AAACCGCCTGGTAACGAGCGCCTT, n_E85_1_AAACCGCCTGGTAACGAGGATTCA, n_E85_1_AAACCGCCTGGTAACGATGCATGG, n_E85_1_AAACCGCCTGGTAACGCAACAAAT, n_E85_1_AAACCGCCTGGTAACGCAAGAGGG, n_E85_1_AAACCGCCTGGTAACGCAGATTAC, n_E85_1_AAACCGCCTGGTAACGCGCTAATA, n_E85_1_AAACCGCCTGGTAACGCTGTTCTT, n_E85_1_AAACCGCCTGGTAACGGAAAGACC, n_E85_1_AAACCGCCTGGTAACGGGAATAGA, n_E85_1_AAACCGCCTGGTAACGGGGTGTAT, n_E85_1_AAACCGCCTGGTAACGGTACCTTG, n_E85_1_AAACCGCCTGGTAACGGTCATATT, n_E85_1_AAACCGCCTGGTAACGGTTACGAT, n_E85_1_AAACCGCCTGGTAACGTAAATAGG, n_E85_1_AAACCGCCTGGTAACGTAAGACGG, n_E85_1_AAACCGCCTGGTAACGTCGACACC, n_E85_1_AAACCGCCTGGTAACGTGGTTTCT, n_E85_1_AAACCGCCTGGTAACGTTAAACTG, n_E85_1_AAACCGCCTGGTAACGTTCACATA, ...]\n",
       "\n",
       "[11875 rows x 0 columns]"
      ]
     },
     "execution_count": 198,
     "metadata": {},
     "output_type": "execute_result"
    }
   ],
   "source": [
    "their_data.obs"
   ]
  },
  {
   "cell_type": "code",
   "execution_count": 215,
   "id": "6624d039",
   "metadata": {},
   "outputs": [],
   "source": [
    "def hamming_distance(s1, s2):\n",
    "    if len(s1) != len(s2):\n",
    "        raise ValueError(\"Strand lengths are not equal!\")\n",
    "    return sum(ch1 != ch2 for ch1,ch2 in zip(s1,s2))"
   ]
  },
  {
   "cell_type": "code",
   "execution_count": 219,
   "id": "c2aa1cbc",
   "metadata": {},
   "outputs": [],
   "source": [
    "their_barcodes = []\n",
    "for name in list(their_data.obs_names):\n",
    "    barcode = name.split('_')[3]\n",
    "    assert hamming_distance(barcode[8:16],\"TGGTAACG\")<=1, barcode[8:16]\n",
    "    their_barcodes.append(barcode[:8]+barcode[-8:])"
   ]
  },
  {
   "cell_type": "code",
   "execution_count": 175,
   "id": "e67e850d",
   "metadata": {},
   "outputs": [
    {
     "data": {
      "text/plain": [
       "23449"
      ]
     },
     "execution_count": 175,
     "metadata": {},
     "output_type": "execute_result"
    }
   ],
   "source": [
    "their_gene_ID = []\n",
    "gene_names = []\n",
    "for name in list(their_data.var_names):\n",
    "    ID, gene_name = name.split('_')\n",
    "    their_gene_ID.append(ID)\n",
    "    gene_names.append(gene_name)\n",
    "ID2names = dict(zip(their_gene_ID,gene_names))\n",
    "len(their_gene_ID)"
   ]
  },
  {
   "cell_type": "code",
   "execution_count": 177,
   "id": "18b6927f",
   "metadata": {},
   "outputs": [
    {
     "data": {
      "text/plain": [
       "View of AnnData object with n_obs × n_vars = 11823 × 55471\n",
       "    var: 'gene_name'\n",
       "    layers: 'spliced', 'unspliced'"
      ]
     },
     "execution_count": 177,
     "metadata": {},
     "output_type": "execute_result"
    }
   ],
   "source": [
    "data = adata[adata.obs_names.isin(their_barcodes),:]\n",
    "data"
   ]
  },
  {
   "cell_type": "code",
   "execution_count": 178,
   "id": "d4d7ec79",
   "metadata": {},
   "outputs": [],
   "source": [
    "gene_indices = []\n",
    "for i,t in enumerate(data.var_names):\n",
    "    gene = t.split('.')[0]\n",
    "    if gene in ID2names:\n",
    "        gene_indices.append(i)"
   ]
  },
  {
   "cell_type": "code",
   "execution_count": 179,
   "id": "72751c47",
   "metadata": {},
   "outputs": [
    {
     "data": {
      "text/plain": [
       "View of AnnData object with n_obs × n_vars = 11823 × 23449\n",
       "    var: 'gene_name'\n",
       "    layers: 'spliced', 'unspliced'"
      ]
     },
     "execution_count": 179,
     "metadata": {},
     "output_type": "execute_result"
    }
   ],
   "source": [
    "data = data[:,gene_indices]\n",
    "data"
   ]
  },
  {
   "cell_type": "code",
   "execution_count": 194,
   "id": "6c7aefeb",
   "metadata": {},
   "outputs": [
    {
     "data": {
      "text/plain": [
       "1083.0"
      ]
     },
     "execution_count": 194,
     "metadata": {},
     "output_type": "execute_result"
    }
   ],
   "source": [
    "adata.layers[\"spliced\"].sum(axis=1).max()"
   ]
  },
  {
   "cell_type": "code",
   "execution_count": 193,
   "id": "6ba9df0f",
   "metadata": {},
   "outputs": [
    {
     "data": {
      "text/plain": [
       "42.46276"
      ]
     },
     "execution_count": 193,
     "metadata": {},
     "output_type": "execute_result"
    }
   ],
   "source": [
    "adata.layers[\"unspliced\"].sum(axis=1).mean()"
   ]
  },
  {
   "cell_type": "code",
   "execution_count": 189,
   "id": "bc0d9936",
   "metadata": {},
   "outputs": [
    {
     "data": {
      "text/plain": [
       "71.80149"
      ]
     },
     "execution_count": 189,
     "metadata": {},
     "output_type": "execute_result"
    }
   ],
   "source": [
    "data.layers[\"unspliced\"].sum(axis=1).mean()"
   ]
  },
  {
   "cell_type": "code",
   "execution_count": 190,
   "id": "35ea5d46",
   "metadata": {},
   "outputs": [
    {
     "data": {
      "text/plain": [
       "339.3885"
      ]
     },
     "execution_count": 190,
     "metadata": {},
     "output_type": "execute_result"
    }
   ],
   "source": [
    "data.layers[\"spliced\"].sum(axis=1).mean()"
   ]
  },
  {
   "cell_type": "code",
   "execution_count": 197,
   "id": "528acf6d",
   "metadata": {},
   "outputs": [
    {
     "data": {
      "text/plain": [
       "16541.0"
      ]
     },
     "execution_count": 197,
     "metadata": {},
     "output_type": "execute_result"
    }
   ],
   "source": [
    "their_data.X.sum(axis=1).max()"
   ]
  },
  {
   "cell_type": "code",
   "execution_count": 89,
   "id": "706f116c",
   "metadata": {},
   "outputs": [
    {
     "data": {
      "text/plain": [
       "array(['ENSMUSG00000000001.4', 'ENSMUSG00000000003.15',\n",
       "       'ENSMUSG00000000028.15', ..., 'ENSMUSG00000118638.1',\n",
       "       'ENSMUSG00000118639.1', 'ENSMUSG00000118640.1'], dtype=object)"
      ]
     },
     "execution_count": 89,
     "metadata": {},
     "output_type": "execute_result"
    }
   ],
   "source": [
    "np.sort(data.var_names)"
   ]
  },
  {
   "cell_type": "code",
   "execution_count": 72,
   "id": "be1dfa09",
   "metadata": {},
   "outputs": [
    {
     "data": {
      "text/html": [
       "<div>\n",
       "<style scoped>\n",
       "    .dataframe tbody tr th:only-of-type {\n",
       "        vertical-align: middle;\n",
       "    }\n",
       "\n",
       "    .dataframe tbody tr th {\n",
       "        vertical-align: top;\n",
       "    }\n",
       "\n",
       "    .dataframe thead th {\n",
       "        text-align: right;\n",
       "    }\n",
       "</style>\n",
       "<table border=\"1\" class=\"dataframe\">\n",
       "  <thead>\n",
       "    <tr style=\"text-align: right;\">\n",
       "      <th></th>\n",
       "    </tr>\n",
       "    <tr>\n",
       "      <th>barcode</th>\n",
       "    </tr>\n",
       "  </thead>\n",
       "  <tbody>\n",
       "  </tbody>\n",
       "</table>\n",
       "</div>"
      ],
      "text/plain": [
       "Empty DataFrameView\n",
       "Columns: []\n",
       "Index: []"
      ]
     },
     "execution_count": 72,
     "metadata": {},
     "output_type": "execute_result"
    }
   ],
   "source": [
    "adata.obs"
   ]
  },
  {
   "cell_type": "code",
   "execution_count": 15,
   "id": "84a079f5",
   "metadata": {},
   "outputs": [
    {
     "data": {
      "text/plain": [
       "AnnData object with n_obs × n_vars = 547805 × 23932\n",
       "    obs: 'cell', 'exp', 'nCount_RNA', 'nFeature_RNA', 'time', 'percent.ribo', 'percent.mt'\n",
       "    var: 'gene'"
      ]
     },
     "execution_count": 15,
     "metadata": {},
     "output_type": "execute_result"
    }
   ],
   "source": [
    "adata"
   ]
  },
  {
   "cell_type": "code",
   "execution_count": 38,
   "id": "3efcc650",
   "metadata": {},
   "outputs": [
    {
     "name": "stderr",
     "output_type": "stream",
     "text": [
      "/Users/fang/opt/anaconda3/lib/python3.7/site-packages/seaborn/_core.py:1326: UserWarning: Vertical orientation ignored with only `x` specified.\n",
      "  warnings.warn(single_var_warning.format(\"Vertical\", \"x\"))\n",
      "/Users/fang/opt/anaconda3/lib/python3.7/site-packages/seaborn/_core.py:1326: UserWarning: Vertical orientation ignored with only `x` specified.\n",
      "  warnings.warn(single_var_warning.format(\"Vertical\", \"x\"))\n",
      "/Users/fang/opt/anaconda3/lib/python3.7/site-packages/seaborn/_core.py:1326: UserWarning: Vertical orientation ignored with only `x` specified.\n",
      "  warnings.warn(single_var_warning.format(\"Vertical\", \"x\"))\n",
      "/Users/fang/opt/anaconda3/lib/python3.7/site-packages/seaborn/_core.py:1326: UserWarning: Vertical orientation ignored with only `x` specified.\n",
      "  warnings.warn(single_var_warning.format(\"Vertical\", \"x\"))\n"
     ]
    },
    {
     "data": {
      "image/png": "[encoded data removed]",
      "text/plain": [
       "<Figure size 432x216 with 2 Axes>"
      ]
     },
     "metadata": {
      "needs_background": "light"
     },
     "output_type": "display_data"
    }
   ],
   "source": [
    "sc.pl.violin(adata, ['n_genes', 'n_counts'], jitter=0.4, multi_panel=True)"
   ]
  },
  {
   "cell_type": "markdown",
   "id": "f6a538c4",
   "metadata": {},
   "source": [
    "# Trajectory"
   ]
  },
  {
   "cell_type": "code",
   "execution_count": 4,
   "id": "1a6a8160",
   "metadata": {},
   "outputs": [
    {
     "name": "stderr",
     "output_type": "stream",
     "text": [
      "/Users/fang/opt/anaconda3/envs/python_3.8/lib/python3.8/site-packages/anndata/_core/anndata.py:121: ImplicitModificationWarning: Transforming to str index.\n",
      "  warnings.warn(\"Transforming to str index.\", ImplicitModificationWarning)\n"
     ]
    },
    {
     "data": {
      "text/plain": [
       "AnnData object with n_obs × n_vars = 13809 × 15437\n",
       "    obs: 'cell', 'exp', 'nCount_RNA', 'nFeature_RNA', 'n_counts', 'n_genes', 'obs_names', 'percent.mt', 'percent.ribo', 'time'\n",
       "    var: 'gene', 'n_cells', 'var_names'"
      ]
     },
     "execution_count": 4,
     "metadata": {},
     "output_type": "execute_result"
    }
   ],
   "source": [
    "hrs_00_02 = sc.read_loom('../data/drosophila_hrs_00_02.loom')\n",
    "hrs_00_02"
   ]
  },
  {
   "cell_type": "code",
   "execution_count": 5,
   "id": "51178617",
   "metadata": {},
   "outputs": [],
   "source": [
    "sc.pp.highly_variable_genes(hrs_00_02,n_top_genes=20,flavor='seurat_v3')"
   ]
  },
  {
   "cell_type": "code",
   "execution_count": 6,
   "id": "e75e56ef",
   "metadata": {},
   "outputs": [],
   "source": [
    "adata = hrs_00_02[hrs_00_02.obs['exp']=='exp10']"
   ]
  },
  {
   "cell_type": "code",
   "execution_count": 7,
   "id": "a1a1e9b6",
   "metadata": {},
   "outputs": [
    {
     "data": {
      "text/plain": [
       "(1165, 20, 1)"
      ]
     },
     "execution_count": 7,
     "metadata": {},
     "output_type": "execute_result"
    }
   ],
   "source": [
    "idx = adata.var['highly_variable']\n",
    "gene_list=adata.var['gene'][idx]\n",
    "X=adata.X.toarray()\n",
    "X=X[:,idx,None]\n",
    "X.shape"
   ]
  },
  {
   "cell_type": "code",
   "execution_count": 8,
   "id": "ac1920cd",
   "metadata": {},
   "outputs": [
    {
     "name": "stdout",
     "output_type": "stream",
     "text": [
      "run method fit_multi_init\n",
      "trial 1\n"
     ]
    },
    {
     "name": "stderr",
     "output_type": "stream",
     "text": [
      "100%|███████████████████████████████████████████| 20/20 [00:14<00:00,  1.42it/s]\n",
      "100%|███████████████████████████████████████████| 20/20 [00:16<00:00,  1.24it/s]\n",
      "100%|███████████████████████████████████████████| 20/20 [00:15<00:00,  1.27it/s]\n",
      "100%|███████████████████████████████████████████| 20/20 [00:15<00:00,  1.28it/s]\n",
      "100%|███████████████████████████████████████████| 20/20 [00:16<00:00,  1.21it/s]\n",
      "100%|███████████████████████████████████████████| 20/20 [00:15<00:00,  1.27it/s]\n",
      "100%|███████████████████████████████████████████| 20/20 [00:15<00:00,  1.27it/s]\n",
      "100%|███████████████████████████████████████████| 20/20 [00:15<00:00,  1.31it/s]\n",
      " 95%|████████████████████████████████████████▊  | 19/20 [00:14<00:00,  1.27it/s]\n",
      "100%|███████████████████████████████████████████| 20/20 [00:14<00:00,  1.39it/s]\n",
      "100%|███████████████████████████████████████████| 20/20 [00:15<00:00,  1.33it/s]\n",
      "100%|███████████████████████████████████████████| 20/20 [00:14<00:00,  1.38it/s]\n",
      " 95%|████████████████████████████████████████▊  | 19/20 [00:16<00:00,  1.16it/s]\n",
      "100%|███████████████████████████████████████████| 20/20 [00:18<00:00,  1.06it/s]\n",
      "100%|███████████████████████████████████████████| 20/20 [00:17<00:00,  1.14it/s]\n",
      "100%|███████████████████████████████████████████| 20/20 [00:14<00:00,  1.35it/s]\n",
      "100%|███████████████████████████████████████████| 20/20 [00:14<00:00,  1.35it/s]\n",
      "100%|███████████████████████████████████████████| 20/20 [00:14<00:00,  1.39it/s]\n",
      "100%|███████████████████████████████████████████| 20/20 [00:15<00:00,  1.27it/s]\n",
      "100%|███████████████████████████████████████████| 20/20 [00:16<00:00,  1.24it/s]\n",
      "100%|███████████████████████████████████████████| 20/20 [00:21<00:00,  1.06s/it]\n",
      "100%|███████████████████████████████████████████| 20/20 [00:18<00:00,  1.08it/s]\n",
      "100%|███████████████████████████████████████████| 20/20 [00:16<00:00,  1.20it/s]\n",
      "100%|███████████████████████████████████████████| 20/20 [00:14<00:00,  1.35it/s]\n"
     ]
    }
   ],
   "source": [
    "tau=(0,1)\n",
    "topo = np.array([[0],[1],[2]])\n",
    "traj = Trajectory(topo, tau, model=\"one_species\")\n",
    "Q, elbos = traj.fit(X, n_init=1, parallel=True, n_threads=4, seed=63)"
   ]
  },
  {
   "cell_type": "code",
   "execution_count": 9,
   "id": "9a9e1a90",
   "metadata": {},
   "outputs": [
    {
     "data": {
      "text/plain": [
       "[<matplotlib.lines.Line2D at 0x12e60bd00>]"
      ]
     },
     "execution_count": 9,
     "metadata": {},
     "output_type": "execute_result"
    },
    {
     "data": {
      "image/png": "[encoded data removed]",
      "text/plain": [
       "<Figure size 432x288 with 1 Axes>"
      ]
     },
     "metadata": {
      "needs_background": "light"
     },
     "output_type": "display_data"
    }
   ],
   "source": [
    "plt.plot(elbos)"
   ]
  },
  {
   "cell_type": "code",
   "execution_count": 12,
   "id": "bb498980",
   "metadata": {},
   "outputs": [
    {
     "data": {
      "text/plain": [
       "Series([], Name: gene, dtype: object)"
      ]
     },
     "execution_count": 12,
     "metadata": {},
     "output_type": "execute_result"
    }
   ],
   "source": [
    "plot_idx = gene_list.isin(['bcd','eve','med','hunchback'])\n",
    "gene_list[plot_idx]"
   ]
  },
  {
   "cell_type": "code",
   "execution_count": null,
   "id": "099e986d",
   "metadata": {},
   "outputs": [],
   "source": [
    "plt.plot(elbos)"
   ]
  }
 ],
 "metadata": {
  "kernelspec": {
   "display_name": "Python 3 (ipykernel)",
   "language": "python",
   "name": "python3"
  },
  "language_info": {
   "codemirror_mode": {
    "name": "ipython",
    "version": 3
   },
   "file_extension": ".py",
   "mimetype": "text/x-python",
   "name": "python",
   "nbconvert_exporter": "python",
   "pygments_lexer": "ipython3",
   "version": "3.9.12"
  }
 },
 "nbformat": 4,
 "nbformat_minor": 5
}
