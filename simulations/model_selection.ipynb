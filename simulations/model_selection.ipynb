{
 "cells": [
  {
   "cell_type": "code",
   "execution_count": 1,
   "id": "482a8bee",
   "metadata": {},
   "outputs": [
    {
     "name": "stdout",
     "output_type": "stream",
     "text": [
      "/home/mffang/workspace/Poisson-regression\n",
      "2023.05.01.10\n"
     ]
    }
   ],
   "source": [
    "%cd ..\n",
    "\n",
    "# Load before numpy to restrict its usage of cores, otherwise it will use all cores when doing @\n",
    "import os\n",
    "os.environ[\"BLAS_NUM_THREADS\"] = \"1\" \n",
    "os.environ[\"OPENBLAS_NUM_THREADS\"] = \"1\" # \n",
    "\n",
    "import RADOM\n",
    "print(RADOM.__version__)\n",
    "\n",
    "from RADOM.inference import Trajectory\n",
    "from RADOM.poisson_mixture import PoissonMixture\n",
    "from RADOM.gamma_poisson_mixture import GammaPoissonMixture\n",
    "from RADOM.preprocess import *\n",
    "from RADOM.plotting import *"
   ]
  },
  {
   "cell_type": "code",
   "execution_count": 2,
   "id": "64be90f8",
   "metadata": {},
   "outputs": [],
   "source": [
    "import numpy as np\n",
    "import pickle\n",
    "from tqdm import tqdm\n",
    "import matplotlib.pyplot as plt\n",
    "from scipy import stats\n",
    "import copy\n",
    "import time"
   ]
  },
  {
   "cell_type": "code",
   "execution_count": 71,
   "id": "f0c7d3c1",
   "metadata": {},
   "outputs": [
    {
     "name": "stdout",
     "output_type": "stream",
     "text": [
      "/home/mffang/workspace/Poisson-regression/simulations/simulation_results\n"
     ]
    }
   ],
   "source": [
    "%cd simulations/simulation_results\n",
    "results_dir = 'model_selection/'\n",
    "\n",
    "if not os.path.exists(results_dir):\n",
    "    os.makedirs(results_dir)"
   ]
  },
  {
   "cell_type": "code",
   "execution_count": 17,
   "id": "b8066a38",
   "metadata": {},
   "outputs": [],
   "source": [
    "from RADOM.models.two_species_ss import get_Y\n",
    "\n",
    "def simulate_data(topo, tau, n, p, t_samples=None, loga_mu=2, loga_sd=1, logb_mu=1, logb_sd=0.5, rd_var=0, logu_mu=0, logu_sd=0, random_seed=2023, plot=False):    \n",
    "    np.random.seed(random_seed)\n",
    "    L=len(topo)\n",
    "    K=len(tau)-1\n",
    "    n_states=len(set(topo.flatten()))\n",
    "    true_t = []\n",
    "    if t_samples is None:\n",
    "        t_samples=np.random.uniform(tau[0],tau[-1],size=100*n)\n",
    "    \n",
    "    theta=np.zeros((p,n_states+2))\n",
    "    for j in range(n_states):\n",
    "        theta[:,j]=np.random.lognormal(loga_mu, loga_sd,size=p)\n",
    "    theta[:,-2:]=np.random.lognormal(logb_mu,logb_sd,size=(p,2))\n",
    "    theta[:,:n_states]/=theta[:,-2,None]\n",
    "    \n",
    "    Y = np.zeros((n*L,p,2))\n",
    "    for l in range(L):\n",
    "        theta_l = np.concatenate((theta[:,topo[l]], theta[:,-2:]), axis=1)\n",
    "        t = np.random.choice(t_samples,size=n)\n",
    "        Y[l*n:(l+1)*n] = get_Y(theta_l,t,tau) # m*p*2\n",
    "        true_t = np.append(true_t,t)\n",
    "    \n",
    "    if logu_sd != 0:\n",
    "        Ubias = np.random.lognormal(logu_mu,logu_sd,p)\n",
    "        Y[:,:,0] *= Ubias[None,:]\n",
    "    else:\n",
    "        Ubias = 1\n",
    "        \n",
    "    if rd_var != 0:\n",
    "        read_depth = np.random.gamma(1/rd_var,1/rd_var,n*L)\n",
    "        rd = read_depth/read_depth.mean()\n",
    "        X = np.random.poisson(rd[:,None,None]*Y)\n",
    "    else:\n",
    "        rd = np.ones(n*L)\n",
    "        X = np.random.poisson(Y)\n",
    "        \n",
    "    if plot:\n",
    "        fig, ax = plt.subplots(1,5,figsize=(30,4))\n",
    "        ax[0].hist(theta[:,:-2].flatten(),bins=100)\n",
    "        ax[0].set_title(\"α\")\n",
    "        ax[1].hist(theta[:,-2:].flatten(),bins=10)\n",
    "        ax[1].set_title(\"β and γ\")\n",
    "        ax[2].hist(rd,bins=100)\n",
    "        ax[2].set_title(\"read depth\")\n",
    "        ax[3].hist(Ubias,bins=100)\n",
    "        ax[3].set_title(\"U/S bias\")\n",
    "        ax[4].hist(true_t,bins=100)\n",
    "        ax[4].set_title(\"t\")\n",
    "    \n",
    "    return theta, true_t, Y, X, rd, Ubias"
   ]
  },
  {
   "cell_type": "code",
   "execution_count": 7,
   "id": "58a84dff",
   "metadata": {},
   "outputs": [
    {
     "data": {
      "image/png": "[encoded data removed]",
      "text/plain": [
       "<Figure size 2160x288 with 5 Axes>"
      ]
     },
     "metadata": {
      "needs_background": "light"
     },
     "output_type": "display_data"
    }
   ],
   "source": [
    "#%% generate data\n",
    "topo=np.array([[0,1,2]])\n",
    "tau=(0,1,2)\n",
    "#%% generate data\n",
    "true_theta, true_t, Y, X, rd, Ubias = simulate_data(topo,tau,n=2000,p=200,rd_var=0,random_seed=2023)"
   ]
  },
  {
   "cell_type": "code",
   "execution_count": 8,
   "id": "63f78c63",
   "metadata": {},
   "outputs": [
    {
     "name": "stdout",
     "output_type": "stream",
     "text": [
      "fitting with warm start\n"
     ]
    },
    {
     "name": "stderr",
     "output_type": "stream",
     "text": [
      "100%|██████████| 3/3 [00:03<00:00,  1.31s/it]\n"
     ]
    }
   ],
   "source": [
    "params={\"r\":rd,\"lambda_a\":0}\n",
    "traj = Trajectory(topo, tau,  model=\"two_species_ss\", restrictions={}, verbose=1)\n",
    "traj = traj.fit(X, warm_start=True, theta=true_theta.copy(), params=params, n_init=1, perm_theta=False, parallel=True, epoch=3, n_threads=10)"
   ]
  },
  {
   "cell_type": "code",
   "execution_count": 9,
   "id": "5d0caf7b",
   "metadata": {},
   "outputs": [],
   "source": [
    "AIC = traj.compute_AIC(X,standard=False)"
   ]
  },
  {
   "cell_type": "code",
   "execution_count": 10,
   "id": "67c5a6f6",
   "metadata": {},
   "outputs": [],
   "source": [
    "BIC = traj.compute_BIC(X,standard=False)"
   ]
  },
  {
   "cell_type": "markdown",
   "id": "f7875b2a",
   "metadata": {},
   "source": [
    "ELBO_x: $\\log(x|\\hat{\\theta}(x))$\n",
    "\n",
    "ELBO_true: $\\log(x|\\theta_0)$\n",
    "\n",
    "ELBO_y: $\\log(y|\\hat{\\theta}(x))$"
   ]
  },
  {
   "cell_type": "code",
   "execution_count": 69,
   "id": "5ad9e482",
   "metadata": {},
   "outputs": [
    {
     "name": "stderr",
     "output_type": "stream",
     "text": [
      "  0%|          | 0/10 [00:29<?, ?it/s]\n"
     ]
    },
    {
     "ename": "KeyboardInterrupt",
     "evalue": "",
     "output_type": "error",
     "traceback": [
      "\u001b[0;31m---------------------------------------------------------------------------\u001b[0m",
      "\u001b[0;31mKeyboardInterrupt\u001b[0m                         Traceback (most recent call last)",
      "\u001b[0;32m/tmp/ipykernel_2473447/252082004.py\u001b[0m in \u001b[0;36m<cell line: 4>\u001b[0;34m()\u001b[0m\n\u001b[1;32m      7\u001b[0m     \u001b[0mtraj\u001b[0m \u001b[0;34m=\u001b[0m \u001b[0mtraj\u001b[0m\u001b[0;34m.\u001b[0m\u001b[0mfit\u001b[0m\u001b[0;34m(\u001b[0m\u001b[0mX\u001b[0m\u001b[0;34m,\u001b[0m \u001b[0mwarm_start\u001b[0m\u001b[0;34m=\u001b[0m\u001b[0;32mTrue\u001b[0m\u001b[0;34m,\u001b[0m \u001b[0mtheta\u001b[0m\u001b[0;34m=\u001b[0m\u001b[0mtrue_theta\u001b[0m\u001b[0;34m.\u001b[0m\u001b[0mcopy\u001b[0m\u001b[0;34m(\u001b[0m\u001b[0;34m)\u001b[0m\u001b[0;34m,\u001b[0m \u001b[0mparams\u001b[0m\u001b[0;34m=\u001b[0m\u001b[0mparams\u001b[0m\u001b[0;34m,\u001b[0m \u001b[0mepoch\u001b[0m\u001b[0;34m=\u001b[0m\u001b[0;36m0\u001b[0m\u001b[0;34m)\u001b[0m\u001b[0;34m\u001b[0m\u001b[0;34m\u001b[0m\u001b[0m\n\u001b[1;32m      8\u001b[0m     \u001b[0mELBO_true\u001b[0m\u001b[0;34m.\u001b[0m\u001b[0mappend\u001b[0m\u001b[0;34m(\u001b[0m\u001b[0mtraj\u001b[0m\u001b[0;34m.\u001b[0m\u001b[0mcompute_lower_bound\u001b[0m\u001b[0;34m(\u001b[0m\u001b[0mX\u001b[0m\u001b[0;34m)\u001b[0m\u001b[0;34m)\u001b[0m\u001b[0;34m\u001b[0m\u001b[0;34m\u001b[0m\u001b[0m\n\u001b[0;32m----> 9\u001b[0;31m     \u001b[0mtraj\u001b[0m \u001b[0;34m=\u001b[0m \u001b[0mtraj\u001b[0m\u001b[0;34m.\u001b[0m\u001b[0mfit\u001b[0m\u001b[0;34m(\u001b[0m\u001b[0mX\u001b[0m\u001b[0;34m,\u001b[0m \u001b[0mwarm_start\u001b[0m\u001b[0;34m=\u001b[0m\u001b[0;32mFalse\u001b[0m\u001b[0;34m,\u001b[0m \u001b[0mparams\u001b[0m\u001b[0;34m=\u001b[0m\u001b[0mparams\u001b[0m\u001b[0;34m,\u001b[0m \u001b[0mparallel\u001b[0m\u001b[0;34m=\u001b[0m\u001b[0;32mTrue\u001b[0m\u001b[0;34m,\u001b[0m \u001b[0mn_init\u001b[0m\u001b[0;34m=\u001b[0m\u001b[0;36m10\u001b[0m\u001b[0;34m,\u001b[0m \u001b[0mepoch\u001b[0m\u001b[0;34m=\u001b[0m\u001b[0;36m100\u001b[0m\u001b[0;34m,\u001b[0m \u001b[0mn_threads\u001b[0m\u001b[0;34m=\u001b[0m\u001b[0;36m4\u001b[0m\u001b[0;34m)\u001b[0m\u001b[0;34m\u001b[0m\u001b[0;34m\u001b[0m\u001b[0m\n\u001b[0m\u001b[1;32m     10\u001b[0m     \u001b[0mELBO_x\u001b[0m\u001b[0;34m.\u001b[0m\u001b[0mappend\u001b[0m\u001b[0;34m(\u001b[0m\u001b[0mtraj\u001b[0m\u001b[0;34m.\u001b[0m\u001b[0mcompute_lower_bound\u001b[0m\u001b[0;34m(\u001b[0m\u001b[0mX\u001b[0m\u001b[0;34m)\u001b[0m\u001b[0;34m)\u001b[0m\u001b[0;34m\u001b[0m\u001b[0;34m\u001b[0m\u001b[0m\n\u001b[1;32m     11\u001b[0m     \u001b[0melbo_y\u001b[0m \u001b[0;34m=\u001b[0m \u001b[0;34m[\u001b[0m\u001b[0;34m]\u001b[0m\u001b[0;34m\u001b[0m\u001b[0;34m\u001b[0m\u001b[0m\n",
      "\u001b[0;32m~/workspace/Poisson-regression/RADOM/inference.py\u001b[0m in \u001b[0;36mfit\u001b[0;34m(self, X, warm_start, Q, theta, prior, norm_Q, fit_tau, params, model_restrictions, m, n_init, perm_theta, epoch, beta, parallel, n_threads, seed)\u001b[0m\n\u001b[1;32m    511\u001b[0m             \u001b[0;32mif\u001b[0m \u001b[0mbool\u001b[0m\u001b[0;34m(\u001b[0m\u001b[0mself\u001b[0m\u001b[0;34m.\u001b[0m\u001b[0mverbose\u001b[0m\u001b[0;34m)\u001b[0m\u001b[0;34m:\u001b[0m\u001b[0;34m\u001b[0m\u001b[0;34m\u001b[0m\u001b[0m\n\u001b[1;32m    512\u001b[0m                 \u001b[0mprint\u001b[0m\u001b[0;34m(\u001b[0m\u001b[0;34m\"fitting with multiple random initializations\"\u001b[0m\u001b[0;34m)\u001b[0m\u001b[0;34m\u001b[0m\u001b[0;34m\u001b[0m\u001b[0m\n\u001b[0;32m--> 513\u001b[0;31m             \u001b[0mres\u001b[0m \u001b[0;34m=\u001b[0m \u001b[0mself\u001b[0m\u001b[0;34m.\u001b[0m\u001b[0mfit_multi_init\u001b[0m\u001b[0;34m(\u001b[0m\u001b[0mX\u001b[0m\u001b[0;34m=\u001b[0m\u001b[0mX\u001b[0m\u001b[0;34m,\u001b[0m \u001b[0mn_init\u001b[0m\u001b[0;34m=\u001b[0m\u001b[0mn_init\u001b[0m\u001b[0;34m,\u001b[0m \u001b[0mperm_theta\u001b[0m\u001b[0;34m=\u001b[0m\u001b[0mperm_theta\u001b[0m\u001b[0;34m,\u001b[0m \u001b[0mepoch\u001b[0m\u001b[0;34m=\u001b[0m\u001b[0mepoch\u001b[0m\u001b[0;34m,\u001b[0m \u001b[0mbeta\u001b[0m\u001b[0;34m=\u001b[0m\u001b[0mbeta\u001b[0m\u001b[0;34m,\u001b[0m \u001b[0mparallel\u001b[0m\u001b[0;34m=\u001b[0m\u001b[0mparallel\u001b[0m\u001b[0;34m,\u001b[0m \u001b[0mn_threads\u001b[0m\u001b[0;34m=\u001b[0m\u001b[0mn_threads\u001b[0m\u001b[0;34m,\u001b[0m \u001b[0mseed\u001b[0m\u001b[0;34m=\u001b[0m\u001b[0mseed\u001b[0m\u001b[0;34m)\u001b[0m\u001b[0;34m\u001b[0m\u001b[0;34m\u001b[0m\u001b[0m\n\u001b[0m\u001b[1;32m    514\u001b[0m \u001b[0;34m\u001b[0m\u001b[0m\n\u001b[1;32m    515\u001b[0m         \u001b[0mQ\u001b[0m\u001b[0;34m,\u001b[0m \u001b[0melbos\u001b[0m \u001b[0;34m=\u001b[0m \u001b[0mres\u001b[0m\u001b[0;34m\u001b[0m\u001b[0;34m\u001b[0m\u001b[0m\n",
      "\u001b[0;32m~/workspace/Poisson-regression/RADOM/inference.py\u001b[0m in \u001b[0;36mfit_multi_init\u001b[0;34m(self, X, n_init, perm_theta, epoch, beta, parallel, n_threads, seed)\u001b[0m\n\u001b[1;32m    365\u001b[0m             \u001b[0mQ\u001b[0m \u001b[0;34m=\u001b[0m \u001b[0mself\u001b[0m\u001b[0;34m.\u001b[0m\u001b[0m_initialize_Q\u001b[0m\u001b[0;34m(\u001b[0m\u001b[0mn\u001b[0m\u001b[0;34m)\u001b[0m\u001b[0;34m\u001b[0m\u001b[0;34m\u001b[0m\u001b[0m\n\u001b[1;32m    366\u001b[0m             \u001b[0mself\u001b[0m\u001b[0;34m.\u001b[0m\u001b[0mupdate_theta\u001b[0m\u001b[0;34m(\u001b[0m\u001b[0mX\u001b[0m\u001b[0;34m=\u001b[0m\u001b[0mX\u001b[0m\u001b[0;34m,\u001b[0m\u001b[0mQ\u001b[0m\u001b[0;34m=\u001b[0m\u001b[0mQ\u001b[0m\u001b[0;34m,\u001b[0m\u001b[0mparallel\u001b[0m\u001b[0;34m=\u001b[0m\u001b[0mparallel\u001b[0m\u001b[0;34m,\u001b[0m\u001b[0mn_threads\u001b[0m\u001b[0;34m=\u001b[0m\u001b[0mn_threads\u001b[0m\u001b[0;34m)\u001b[0m\u001b[0;34m\u001b[0m\u001b[0;34m\u001b[0m\u001b[0m\n\u001b[0;32m--> 367\u001b[0;31m             \u001b[0mQ\u001b[0m\u001b[0;34m,\u001b[0m \u001b[0mlower_bound\u001b[0m \u001b[0;34m=\u001b[0m \u001b[0mself\u001b[0m\u001b[0;34m.\u001b[0m\u001b[0m_fit\u001b[0m\u001b[0;34m(\u001b[0m\u001b[0mX\u001b[0m\u001b[0;34m=\u001b[0m\u001b[0mX\u001b[0m\u001b[0;34m,\u001b[0m \u001b[0mepoch\u001b[0m\u001b[0;34m=\u001b[0m\u001b[0mepoch\u001b[0m\u001b[0;34m,\u001b[0m \u001b[0mbeta\u001b[0m\u001b[0;34m=\u001b[0m\u001b[0mbeta\u001b[0m\u001b[0;34m,\u001b[0m \u001b[0mparallel\u001b[0m\u001b[0;34m=\u001b[0m\u001b[0mparallel\u001b[0m\u001b[0;34m,\u001b[0m \u001b[0mn_threads\u001b[0m\u001b[0;34m=\u001b[0m\u001b[0mn_threads\u001b[0m\u001b[0;34m)\u001b[0m\u001b[0;34m\u001b[0m\u001b[0;34m\u001b[0m\u001b[0m\n\u001b[0m\u001b[1;32m    368\u001b[0m             \u001b[0mtheta0\u001b[0m \u001b[0;34m=\u001b[0m \u001b[0mself\u001b[0m\u001b[0;34m.\u001b[0m\u001b[0mtheta\u001b[0m\u001b[0;34m.\u001b[0m\u001b[0mcopy\u001b[0m\u001b[0;34m(\u001b[0m\u001b[0;34m)\u001b[0m\u001b[0;34m\u001b[0m\u001b[0;34m\u001b[0m\u001b[0m\n\u001b[1;32m    369\u001b[0m \u001b[0;34m\u001b[0m\u001b[0m\n",
      "\u001b[0;32m~/workspace/Poisson-regression/RADOM/inference.py\u001b[0m in \u001b[0;36m_fit\u001b[0;34m(self, X, epoch, beta, parallel, n_threads)\u001b[0m\n\u001b[1;32m    312\u001b[0m                 \u001b[0;31m#if self.fit_weights:\u001b[0m\u001b[0;34m\u001b[0m\u001b[0;34m\u001b[0m\u001b[0m\n\u001b[1;32m    313\u001b[0m                 \u001b[0;31m#    self.weights = Q.mean(axis=0,keepdims=True)\u001b[0m\u001b[0;34m\u001b[0m\u001b[0;34m\u001b[0m\u001b[0m\n\u001b[0;32m--> 314\u001b[0;31m             \u001b[0mself\u001b[0m\u001b[0;34m.\u001b[0m\u001b[0mupdate_global_time_scale\u001b[0m\u001b[0;34m(\u001b[0m\u001b[0mX\u001b[0m\u001b[0;34m)\u001b[0m\u001b[0;34m\u001b[0m\u001b[0;34m\u001b[0m\u001b[0m\n\u001b[0m\u001b[1;32m    315\u001b[0m             \u001b[0;31m#self.theta_hist.append(self.theta.copy())\u001b[0m\u001b[0;34m\u001b[0m\u001b[0;34m\u001b[0m\u001b[0m\n\u001b[1;32m    316\u001b[0m \u001b[0;34m\u001b[0m\u001b[0m\n",
      "\u001b[0;32m~/workspace/Poisson-regression/RADOM/inference.py\u001b[0m in \u001b[0;36mupdate_global_time_scale\u001b[0;34m(self, X)\u001b[0m\n\u001b[1;32m    217\u001b[0m             \u001b[0;32mreturn\u001b[0m \u001b[0;34m-\u001b[0m\u001b[0mlower_bound\u001b[0m\u001b[0;34m\u001b[0m\u001b[0;34m\u001b[0m\u001b[0m\n\u001b[1;32m    218\u001b[0m \u001b[0;34m\u001b[0m\u001b[0m\n\u001b[0;32m--> 219\u001b[0;31m         res = minimize_scalar(fun=Obj, args=(self.theta,X,self.t,self.tau,self.topo,self.params), bounds=(-1, 1), method='bounded',\n\u001b[0m\u001b[1;32m    220\u001b[0m                               options={'maxiter': 100,'disp': False})\n\u001b[1;32m    221\u001b[0m         \u001b[0mself\u001b[0m\u001b[0;34m.\u001b[0m\u001b[0mtheta\u001b[0m\u001b[0;34m[\u001b[0m\u001b[0;34m:\u001b[0m\u001b[0;34m,\u001b[0m\u001b[0;34m-\u001b[0m\u001b[0;36m2\u001b[0m\u001b[0;34m:\u001b[0m\u001b[0;34m]\u001b[0m \u001b[0;34m*=\u001b[0m \u001b[0;36m10\u001b[0m\u001b[0;34m**\u001b[0m\u001b[0mres\u001b[0m\u001b[0;34m.\u001b[0m\u001b[0mx\u001b[0m\u001b[0;34m\u001b[0m\u001b[0;34m\u001b[0m\u001b[0m\n",
      "\u001b[0;32m~/miniconda3/envs/python_3.9/lib/python3.9/site-packages/scipy/optimize/_minimize.py\u001b[0m in \u001b[0;36mminimize_scalar\u001b[0;34m(fun, bracket, bounds, args, method, tol, options)\u001b[0m\n\u001b[1;32m    802\u001b[0m         \u001b[0;32mif\u001b[0m \u001b[0misinstance\u001b[0m\u001b[0;34m(\u001b[0m\u001b[0mdisp\u001b[0m\u001b[0;34m,\u001b[0m \u001b[0mbool\u001b[0m\u001b[0;34m)\u001b[0m\u001b[0;34m:\u001b[0m\u001b[0;34m\u001b[0m\u001b[0;34m\u001b[0m\u001b[0m\n\u001b[1;32m    803\u001b[0m             \u001b[0moptions\u001b[0m\u001b[0;34m[\u001b[0m\u001b[0;34m'disp'\u001b[0m\u001b[0;34m]\u001b[0m \u001b[0;34m=\u001b[0m \u001b[0;36m2\u001b[0m \u001b[0;34m*\u001b[0m \u001b[0mint\u001b[0m\u001b[0;34m(\u001b[0m\u001b[0mdisp\u001b[0m\u001b[0;34m)\u001b[0m\u001b[0;34m\u001b[0m\u001b[0;34m\u001b[0m\u001b[0m\n\u001b[0;32m--> 804\u001b[0;31m         \u001b[0;32mreturn\u001b[0m \u001b[0m_minimize_scalar_bounded\u001b[0m\u001b[0;34m(\u001b[0m\u001b[0mfun\u001b[0m\u001b[0;34m,\u001b[0m \u001b[0mbounds\u001b[0m\u001b[0;34m,\u001b[0m \u001b[0margs\u001b[0m\u001b[0;34m,\u001b[0m \u001b[0;34m**\u001b[0m\u001b[0moptions\u001b[0m\u001b[0;34m)\u001b[0m\u001b[0;34m\u001b[0m\u001b[0;34m\u001b[0m\u001b[0m\n\u001b[0m\u001b[1;32m    805\u001b[0m     \u001b[0;32melif\u001b[0m \u001b[0mmeth\u001b[0m \u001b[0;34m==\u001b[0m \u001b[0;34m'golden'\u001b[0m\u001b[0;34m:\u001b[0m\u001b[0;34m\u001b[0m\u001b[0;34m\u001b[0m\u001b[0m\n\u001b[1;32m    806\u001b[0m         \u001b[0;32mreturn\u001b[0m \u001b[0m_minimize_scalar_golden\u001b[0m\u001b[0;34m(\u001b[0m\u001b[0mfun\u001b[0m\u001b[0;34m,\u001b[0m \u001b[0mbracket\u001b[0m\u001b[0;34m,\u001b[0m \u001b[0margs\u001b[0m\u001b[0;34m,\u001b[0m \u001b[0;34m**\u001b[0m\u001b[0moptions\u001b[0m\u001b[0;34m)\u001b[0m\u001b[0;34m\u001b[0m\u001b[0;34m\u001b[0m\u001b[0m\n",
      "\u001b[0;32m~/miniconda3/envs/python_3.9/lib/python3.9/site-packages/scipy/optimize/optimize.py\u001b[0m in \u001b[0;36m_minimize_scalar_bounded\u001b[0;34m(func, bounds, args, xatol, maxiter, disp, **unknown_options)\u001b[0m\n\u001b[1;32m   2075\u001b[0m         \u001b[0msi\u001b[0m \u001b[0;34m=\u001b[0m \u001b[0mnp\u001b[0m\u001b[0;34m.\u001b[0m\u001b[0msign\u001b[0m\u001b[0;34m(\u001b[0m\u001b[0mrat\u001b[0m\u001b[0;34m)\u001b[0m \u001b[0;34m+\u001b[0m \u001b[0;34m(\u001b[0m\u001b[0mrat\u001b[0m \u001b[0;34m==\u001b[0m \u001b[0;36m0\u001b[0m\u001b[0;34m)\u001b[0m\u001b[0;34m\u001b[0m\u001b[0;34m\u001b[0m\u001b[0m\n\u001b[1;32m   2076\u001b[0m         \u001b[0mx\u001b[0m \u001b[0;34m=\u001b[0m \u001b[0mxf\u001b[0m \u001b[0;34m+\u001b[0m \u001b[0msi\u001b[0m \u001b[0;34m*\u001b[0m \u001b[0mnp\u001b[0m\u001b[0;34m.\u001b[0m\u001b[0mmaximum\u001b[0m\u001b[0;34m(\u001b[0m\u001b[0mnp\u001b[0m\u001b[0;34m.\u001b[0m\u001b[0mabs\u001b[0m\u001b[0;34m(\u001b[0m\u001b[0mrat\u001b[0m\u001b[0;34m)\u001b[0m\u001b[0;34m,\u001b[0m \u001b[0mtol1\u001b[0m\u001b[0;34m)\u001b[0m\u001b[0;34m\u001b[0m\u001b[0;34m\u001b[0m\u001b[0m\n\u001b[0;32m-> 2077\u001b[0;31m         \u001b[0mfu\u001b[0m \u001b[0;34m=\u001b[0m \u001b[0mfunc\u001b[0m\u001b[0;34m(\u001b[0m\u001b[0mx\u001b[0m\u001b[0;34m,\u001b[0m \u001b[0;34m*\u001b[0m\u001b[0margs\u001b[0m\u001b[0;34m)\u001b[0m\u001b[0;34m\u001b[0m\u001b[0;34m\u001b[0m\u001b[0m\n\u001b[0m\u001b[1;32m   2078\u001b[0m         \u001b[0mnum\u001b[0m \u001b[0;34m+=\u001b[0m \u001b[0;36m1\u001b[0m\u001b[0;34m\u001b[0m\u001b[0;34m\u001b[0m\u001b[0m\n\u001b[1;32m   2079\u001b[0m         \u001b[0mfmin_data\u001b[0m \u001b[0;34m=\u001b[0m \u001b[0;34m(\u001b[0m\u001b[0mnum\u001b[0m\u001b[0;34m,\u001b[0m \u001b[0mx\u001b[0m\u001b[0;34m,\u001b[0m \u001b[0mfu\u001b[0m\u001b[0;34m)\u001b[0m\u001b[0;34m\u001b[0m\u001b[0;34m\u001b[0m\u001b[0m\n",
      "\u001b[0;32m~/workspace/Poisson-regression/RADOM/inference.py\u001b[0m in \u001b[0;36mObj\u001b[0;34m(x, theta, X, t, tau, topo, params)\u001b[0m\n\u001b[1;32m    203\u001b[0m             \u001b[0mnew_theta\u001b[0m \u001b[0;34m=\u001b[0m \u001b[0mtheta\u001b[0m\u001b[0;34m.\u001b[0m\u001b[0mcopy\u001b[0m\u001b[0;34m(\u001b[0m\u001b[0;34m)\u001b[0m\u001b[0;34m\u001b[0m\u001b[0;34m\u001b[0m\u001b[0m\n\u001b[1;32m    204\u001b[0m             \u001b[0mnew_theta\u001b[0m\u001b[0;34m[\u001b[0m\u001b[0;34m:\u001b[0m\u001b[0;34m,\u001b[0m\u001b[0;34m-\u001b[0m\u001b[0;36m2\u001b[0m\u001b[0;34m:\u001b[0m\u001b[0;34m]\u001b[0m \u001b[0;34m*=\u001b[0m \u001b[0;36m10\u001b[0m\u001b[0;34m**\u001b[0m\u001b[0mx\u001b[0m\u001b[0;34m\u001b[0m\u001b[0;34m\u001b[0m\u001b[0m\n\u001b[0;32m--> 205\u001b[0;31m             \u001b[0mlogL\u001b[0m \u001b[0;34m=\u001b[0m \u001b[0mself\u001b[0m\u001b[0;34m.\u001b[0m\u001b[0mget_logL\u001b[0m\u001b[0;34m(\u001b[0m\u001b[0mX\u001b[0m\u001b[0;34m,\u001b[0m\u001b[0mnew_theta\u001b[0m\u001b[0;34m,\u001b[0m\u001b[0mt\u001b[0m\u001b[0;34m,\u001b[0m\u001b[0mtau\u001b[0m\u001b[0;34m,\u001b[0m\u001b[0mtopo\u001b[0m\u001b[0;34m,\u001b[0m\u001b[0mparams\u001b[0m\u001b[0;34m)\u001b[0m \u001b[0;31m# with size (n,self.L,self.m)\u001b[0m\u001b[0;34m\u001b[0m\u001b[0;34m\u001b[0m\u001b[0m\n\u001b[0m\u001b[1;32m    206\u001b[0m             \u001b[0;32mif\u001b[0m \u001b[0mself\u001b[0m\u001b[0;34m.\u001b[0m\u001b[0mweights\u001b[0m \u001b[0;32mis\u001b[0m \u001b[0;32mnot\u001b[0m \u001b[0;32mNone\u001b[0m\u001b[0;34m:\u001b[0m\u001b[0;34m\u001b[0m\u001b[0;34m\u001b[0m\u001b[0m\n\u001b[1;32m    207\u001b[0m                 \u001b[0mlogL\u001b[0m \u001b[0;34m+=\u001b[0m \u001b[0mnp\u001b[0m\u001b[0;34m.\u001b[0m\u001b[0mlog\u001b[0m\u001b[0;34m(\u001b[0m\u001b[0mself\u001b[0m\u001b[0;34m.\u001b[0m\u001b[0mweights\u001b[0m\u001b[0;34m)\u001b[0m\u001b[0;34m\u001b[0m\u001b[0;34m\u001b[0m\u001b[0m\n",
      "\u001b[0;32m~/workspace/Poisson-regression/RADOM/models/two_species_ss.py\u001b[0m in \u001b[0;36mget_logL\u001b[0;34m(X, theta, t, tau, topo, params)\u001b[0m\n\u001b[1;32m    266\u001b[0m     \u001b[0mlogL\u001b[0m \u001b[0;34m=\u001b[0m \u001b[0mnp\u001b[0m\u001b[0;34m.\u001b[0m\u001b[0mtensordot\u001b[0m\u001b[0;34m(\u001b[0m\u001b[0mX\u001b[0m\u001b[0;34m,\u001b[0m \u001b[0mnp\u001b[0m\u001b[0;34m.\u001b[0m\u001b[0mlog\u001b[0m\u001b[0;34m(\u001b[0m\u001b[0meps\u001b[0m \u001b[0;34m+\u001b[0m \u001b[0mY\u001b[0m\u001b[0;34m)\u001b[0m\u001b[0;34m,\u001b[0m \u001b[0maxes\u001b[0m\u001b[0;34m=\u001b[0m\u001b[0;34m(\u001b[0m\u001b[0;34m[\u001b[0m\u001b[0;34m-\u001b[0m\u001b[0;36m2\u001b[0m\u001b[0;34m,\u001b[0m\u001b[0;34m-\u001b[0m\u001b[0;36m1\u001b[0m\u001b[0;34m]\u001b[0m\u001b[0;34m,\u001b[0m\u001b[0;34m[\u001b[0m\u001b[0;34m-\u001b[0m\u001b[0;36m2\u001b[0m\u001b[0;34m,\u001b[0m\u001b[0;34m-\u001b[0m\u001b[0;36m1\u001b[0m\u001b[0;34m]\u001b[0m\u001b[0;34m)\u001b[0m\u001b[0;34m)\u001b[0m \u001b[0;31m# logL:n*L*m\u001b[0m\u001b[0;34m\u001b[0m\u001b[0;34m\u001b[0m\u001b[0m\n\u001b[1;32m    267\u001b[0m     \u001b[0mlogL\u001b[0m \u001b[0;34m-=\u001b[0m \u001b[0mnp\u001b[0m\u001b[0;34m.\u001b[0m\u001b[0msum\u001b[0m\u001b[0;34m(\u001b[0m\u001b[0mY\u001b[0m\u001b[0;34m,\u001b[0m\u001b[0maxis\u001b[0m\u001b[0;34m=\u001b[0m\u001b[0;34m(\u001b[0m\u001b[0;34m-\u001b[0m\u001b[0;36m2\u001b[0m\u001b[0;34m,\u001b[0m\u001b[0;34m-\u001b[0m\u001b[0;36m1\u001b[0m\u001b[0;34m)\u001b[0m\u001b[0;34m)\u001b[0m\u001b[0;34m\u001b[0m\u001b[0;34m\u001b[0m\u001b[0m\n\u001b[0;32m--> 268\u001b[0;31m     \u001b[0mlogL\u001b[0m  \u001b[0;34m-=\u001b[0m \u001b[0mnp\u001b[0m\u001b[0;34m.\u001b[0m\u001b[0msum\u001b[0m\u001b[0;34m(\u001b[0m\u001b[0mgammaln\u001b[0m\u001b[0;34m(\u001b[0m\u001b[0mX\u001b[0m\u001b[0;34m+\u001b[0m\u001b[0;36m1\u001b[0m\u001b[0;34m)\u001b[0m\u001b[0;34m,\u001b[0m\u001b[0maxis\u001b[0m\u001b[0;34m=\u001b[0m\u001b[0;34m(\u001b[0m\u001b[0;34m-\u001b[0m\u001b[0;36m2\u001b[0m\u001b[0;34m,\u001b[0m\u001b[0;34m-\u001b[0m\u001b[0;36m1\u001b[0m\u001b[0;34m)\u001b[0m\u001b[0;34m,\u001b[0m\u001b[0mkeepdims\u001b[0m\u001b[0;34m=\u001b[0m\u001b[0;32mTrue\u001b[0m\u001b[0;34m)\u001b[0m\u001b[0;34m\u001b[0m\u001b[0;34m\u001b[0m\u001b[0m\n\u001b[0m\u001b[1;32m    269\u001b[0m \u001b[0;34m\u001b[0m\u001b[0m\n\u001b[1;32m    270\u001b[0m     \u001b[0;32mif\u001b[0m \u001b[0;34m'r'\u001b[0m \u001b[0;32min\u001b[0m \u001b[0mparams\u001b[0m\u001b[0;34m:\u001b[0m\u001b[0;34m\u001b[0m\u001b[0;34m\u001b[0m\u001b[0m\n",
      "\u001b[0;31mKeyboardInterrupt\u001b[0m: "
     ]
    }
   ],
   "source": [
    "ELBO_y = []\n",
    "ELBO_x = []\n",
    "ELBO_true = []\n",
    "trajs = []\n",
    "for seed in tqdm(range(10)):\n",
    "    true_theta, true_t, Y, X, rd, Ubias = simulate_data(topo,tau,n=2000,p=200,rd_var=0,random_seed=seed)\n",
    "    traj = Trajectory(topo, tau,  model=\"two_species_ss\", restrictions={}, verbose=0)\n",
    "    traj = traj.fit(X, warm_start=True, theta=true_theta.copy(), params=params, epoch=0)\n",
    "    ELBO_true.append(traj.compute_lower_bound(X))\n",
    "    traj = traj.fit(X, warm_start=False, params=params, parallel=True, n_init=10, epoch=100, n_threads=10)\n",
    "    ELBO_x.append(traj.compute_lower_bound(X))\n",
    "    elbo_y = []\n",
    "    for k in range(100):\n",
    "        X_Y = np.random.poisson(Y)\n",
    "        elbo_y.append(traj.compute_lower_bound(X_Y))\n",
    "    ELBO_y.append(np.mean(elbo_y))"
   ]
  },
  {
   "cell_type": "code",
   "execution_count": 35,
   "id": "a4d93018",
   "metadata": {},
   "outputs": [
    {
     "data": {
      "text/plain": [
       "[<matplotlib.lines.Line2D at 0x7fc96df003d0>]"
      ]
     },
     "execution_count": 35,
     "metadata": {},
     "output_type": "execute_result"
    },
    {
     "data": {
      "image/png": "[encoded data removed]",
      "text/plain": [
       "<Figure size 432x288 with 1 Axes>"
      ]
     },
     "metadata": {
      "needs_background": "light"
     },
     "output_type": "display_data"
    }
   ],
   "source": [
    "plt.plot(ELBO_x,ELBO_x,'r-')\n",
    "plt.plot(ELBO_x,ELBO_y,'k.')"
   ]
  },
  {
   "cell_type": "code",
   "execution_count": 40,
   "id": "5cddc85a",
   "metadata": {},
   "outputs": [
    {
     "data": {
      "text/plain": [
       "0.5005"
      ]
     },
     "execution_count": 40,
     "metadata": {},
     "output_type": "execute_result"
    }
   ],
   "source": [
    "1001/2000"
   ]
  },
  {
   "cell_type": "code",
   "execution_count": 36,
   "id": "bbd0b552",
   "metadata": {},
   "outputs": [
    {
     "data": {
      "text/plain": [
       "0.5370769953271974"
      ]
     },
     "execution_count": 36,
     "metadata": {},
     "output_type": "execute_result"
    }
   ],
   "source": [
    "np.mean(ELBO_x)-np.mean(ELBO_y)"
   ]
  },
  {
   "cell_type": "code",
   "execution_count": 37,
   "id": "3fae79f0",
   "metadata": {},
   "outputs": [
    {
     "data": {
      "text/plain": [
       "0.2520559164579481"
      ]
     },
     "execution_count": 37,
     "metadata": {},
     "output_type": "execute_result"
    }
   ],
   "source": [
    "np.mean(ELBO_x)-np.mean(ELBO_true)"
   ]
  },
  {
   "cell_type": "code",
   "execution_count": 45,
   "id": "c21daca9",
   "metadata": {},
   "outputs": [
    {
     "name": "stderr",
     "output_type": "stream",
     "text": [
      "100%|██████████| 100/100 [23:02<00:00, 13.82s/it]\n"
     ]
    }
   ],
   "source": [
    "ELBO_y = []\n",
    "ELBO_x = []\n",
    "ELBO_true = []\n",
    "for seed in tqdm(range(100)):\n",
    "    true_theta, true_t, Y, X, rd, Ubias = simulate_data(topo,tau,n=2000,p=200,rd_var=0,random_seed=seed)\n",
    "    true_theta_ = np.zeros((true_theta.shape[0],true_theta.shape[1]+1))\n",
    "    true_theta_[:,:-3]=true_theta[:,:-2]\n",
    "    true_theta_[:,-2:]=true_theta[:,-2:]\n",
    "    true_theta_[:,-3]=true_theta[:,0]*true_theta[:,-2]/true_theta[:,-1]\n",
    "    traj = Trajectory(topo, tau,  model=\"two_species\", restrictions={}, verbose=0)\n",
    "    traj = traj.fit(X, warm_start=True, theta=true_theta_.copy(), params=params, epoch=0)\n",
    "    ELBO_true.append(traj.compute_lower_bound(X))\n",
    "    traj = traj.fit(X, warm_start=True, theta=true_theta_.copy(), params=params, parallel=True, epoch=3, n_threads=4)\n",
    "    ELBO_x.append(traj.compute_lower_bound(X))\n",
    "    elbo_y = []\n",
    "    for k in range(100):\n",
    "        X_Y = np.random.poisson(Y)\n",
    "        elbo_y.append(traj.compute_lower_bound(X_Y))\n",
    "    ELBO_y.append(np.mean(elbo_y))"
   ]
  },
  {
   "cell_type": "code",
   "execution_count": 46,
   "id": "474b46b3",
   "metadata": {},
   "outputs": [
    {
     "data": {
      "text/plain": [
       "0.6005"
      ]
     },
     "execution_count": 46,
     "metadata": {},
     "output_type": "execute_result"
    }
   ],
   "source": [
    "1201/2000"
   ]
  },
  {
   "cell_type": "code",
   "execution_count": 47,
   "id": "5f9bf594",
   "metadata": {},
   "outputs": [
    {
     "data": {
      "text/plain": [
       "0.8077442719452392"
      ]
     },
     "execution_count": 47,
     "metadata": {},
     "output_type": "execute_result"
    }
   ],
   "source": [
    "np.mean(ELBO_true)-np.mean(ELBO_y)"
   ]
  },
  {
   "cell_type": "code",
   "execution_count": 48,
   "id": "e6f6194a",
   "metadata": {},
   "outputs": [
    {
     "data": {
      "text/plain": [
       "-0.23434689477596748"
      ]
     },
     "execution_count": 48,
     "metadata": {},
     "output_type": "execute_result"
    }
   ],
   "source": [
    "np.mean(ELBO_x)-np.mean(ELBO_true)"
   ]
  },
  {
   "cell_type": "code",
   "execution_count": 60,
   "id": "f4c7b32c",
   "metadata": {},
   "outputs": [
    {
     "data": {
      "text/plain": [
       "[<matplotlib.lines.Line2D at 0x7fc964390280>]"
      ]
     },
     "execution_count": 60,
     "metadata": {},
     "output_type": "execute_result"
    },
    {
     "data": {
      "image/png": "[encoded data removed]",
      "text/plain": [
       "<Figure size 432x288 with 1 Axes>"
      ]
     },
     "metadata": {
      "needs_background": "light"
     },
     "output_type": "display_data"
    }
   ],
   "source": [
    "plt.plot(ELBO_x,ELBO_x,'k-')\n",
    "plt.plot(ELBO_x,np.array(ELBO_x)-600/2000,'b-')\n",
    "plt.plot(ELBO_x,ELBO_true,'r.')"
   ]
  },
  {
   "cell_type": "code",
   "execution_count": 61,
   "id": "76ec1bf5",
   "metadata": {},
   "outputs": [
    {
     "name": "stderr",
     "output_type": "stream",
     "text": [
      "100%|██████████| 100/100 [24:26<00:00, 14.66s/it]\n"
     ]
    }
   ],
   "source": [
    "topo=np.array([[0,1,2]])\n",
    "tau=(0,1,2)\n",
    "topo_=np.array([[0,1,2,3]])\n",
    "tau_=(0,1,1.5,2)\n",
    "ELBO_y = []\n",
    "ELBO_x = []\n",
    "ELBO_true = []\n",
    "for seed in tqdm(range(100)):\n",
    "    true_theta, true_t, Y, X, rd, Ubias = simulate_data(topo,tau,n=2000,p=200,rd_var=0,random_seed=seed)\n",
    "    true_theta_ = np.zeros((true_theta.shape[0],true_theta.shape[1]+1))\n",
    "    true_theta_[:,:-3]=true_theta[:,:-2]\n",
    "    true_theta_[:,-2:]=true_theta[:,-2:]\n",
    "    true_theta_[:,-3]=true_theta[:,-3]\n",
    "    traj = Trajectory(topo_, tau_,  model=\"two_species_ss\", restrictions={}, verbose=0)\n",
    "    traj = traj.fit(X, warm_start=True, theta=true_theta_.copy(), params=params, epoch=0)\n",
    "    ELBO_true.append(traj.compute_lower_bound(X))\n",
    "    traj = traj.fit(X, warm_start=True, theta=true_theta_.copy(), params=params, parallel=True, epoch=3, n_threads=4)\n",
    "    ELBO_x.append(traj.compute_lower_bound(X))\n",
    "    elbo_y = []\n",
    "    for k in range(100):\n",
    "        X_Y = np.random.poisson(Y)\n",
    "        elbo_y.append(traj.compute_lower_bound(X_Y))\n",
    "    ELBO_y.append(np.mean(elbo_y))"
   ]
  },
  {
   "cell_type": "code",
   "execution_count": 62,
   "id": "698ff9f0",
   "metadata": {},
   "outputs": [
    {
     "data": {
      "text/plain": [
       "0.48986246586423476"
      ]
     },
     "execution_count": 62,
     "metadata": {},
     "output_type": "execute_result"
    }
   ],
   "source": [
    "np.mean(ELBO_true)-np.mean(ELBO_y)"
   ]
  },
  {
   "cell_type": "code",
   "execution_count": 63,
   "id": "ab4752c9",
   "metadata": {},
   "outputs": [
    {
     "data": {
      "text/plain": [
       "0.08293598735167507"
      ]
     },
     "execution_count": 63,
     "metadata": {},
     "output_type": "execute_result"
    }
   ],
   "source": [
    "np.mean(ELBO_x)-np.mean(ELBO_true)"
   ]
  },
  {
   "cell_type": "code",
   "execution_count": 64,
   "id": "300ae82e",
   "metadata": {},
   "outputs": [
    {
     "data": {
      "text/plain": [
       "[<matplotlib.lines.Line2D at 0x7fc9641e29d0>]"
      ]
     },
     "execution_count": 64,
     "metadata": {},
     "output_type": "execute_result"
    },
    {
     "data": {
      "image/png": "[encoded data removed]",
      "text/plain": [
       "<Figure size 432x288 with 1 Axes>"
      ]
     },
     "metadata": {
      "needs_background": "light"
     },
     "output_type": "display_data"
    }
   ],
   "source": [
    "plt.plot(ELBO_x,ELBO_x,'k-')\n",
    "plt.plot(ELBO_x,np.array(ELBO_x)-600/2000,'b-')\n",
    "plt.plot(ELBO_x,ELBO_true,'r.')"
   ]
  },
  {
   "cell_type": "code",
   "execution_count": 68,
   "id": "eb476c5f",
   "metadata": {},
   "outputs": [
    {
     "data": {
      "text/plain": [
       "[<matplotlib.lines.Line2D at 0x7fc96434f0d0>]"
      ]
     },
     "execution_count": 68,
     "metadata": {},
     "output_type": "execute_result"
    },
    {
     "data": {
      "image/png": "[encoded data removed]",
      "text/plain": [
       "<Figure size 432x288 with 1 Axes>"
      ]
     },
     "metadata": {
      "needs_background": "light"
     },
     "output_type": "display_data"
    }
   ],
   "source": [
    "plt.plot(ELBO_x,ELBO_x,'k-')\n",
    "plt.plot(ELBO_x,np.array(ELBO_x)-1201/(2000-1201-1),'b-')\n",
    "plt.plot(ELBO_x,ELBO_y,'r.')"
   ]
  },
  {
   "cell_type": "code",
   "execution_count": 75,
   "id": "33699e6c",
   "metadata": {},
   "outputs": [],
   "source": [
    "true_topo = np.array([[0,1,2]])\n",
    "true_tau=(0,0.75,2)\n",
    "\n",
    "topo_1 = np.array([[0,1,2]])\n",
    "tau_1=(0,1.0,2)\n",
    "\n",
    "topo_2 = np.array([[0,1,2,3]])\n",
    "tau_2 = (0,0.1,1.5,2)\n",
    "           \n",
    "def fit_model_wrapper(X, Y, true_t, theta, params):\n",
    "    traj0 = Trajectory(topo_1, tau_1, model=\"two_species_ss\", verbose=0)\n",
    "    traj0 = traj0.fit(X,params=params,fit_tau=True,n_init=10,epoch=100,parallel=False,n_threads=1)\n",
    "    traj0.true_t = true_t\n",
    "    traj0.true_topo = true_topo\n",
    "    traj0.true_tau = true_tau\n",
    "    traj0.true_theta = theta\n",
    "    traj0.Y = Y\n",
    "\n",
    "    traj1 = Trajectory(topo_1, tau_1, model=\"two_species\", verbose=0)\n",
    "    traj1 = traj1.fit(X,params=params,fit_tau=True,n_init=10,epoch=100,parallel=False,n_threads=1)\n",
    "    traj1.true_topo = true_topo\n",
    "    traj1.true_tau = true_tau\n",
    "    traj1.true_t = true_t\n",
    "    traj1.true_theta = theta\n",
    "    traj1.Y = Y\n",
    "\n",
    "    traj2 = Trajectory(topo_2, tau_2, model=\"two_species_ss\", verbose=0)\n",
    "    traj2 = traj2.fit(X,params=params,fit_tau=True,n_init=10,epoch=100,parallel=False,n_threads=1)\n",
    "    traj2.true_t = true_t\n",
    "    traj2.true_topo = true_topo\n",
    "    traj2.true_tau = true_tau\n",
    "    traj2.true_theta = theta\n",
    "    traj2.Y = Y\n",
    "\n",
    "    return (traj0,traj1,traj2)\n",
    "\n",
    "from multiprocessing import Pool\n",
    "\n",
    "def vary_model_topo1(n=2000, p=200, t_samples=None, K=20, n_init=10, epoch=100, m=100, cores=15, loga_mu=2, loga_sd=1, logb_mu=1, logb_sd=0.5, rd_var=0.25):        \n",
    "    L=len(true_topo)\n",
    "    n_states=len(set(true_topo.flatten()))\n",
    "    if t_samples is None:\n",
    "        t_samples=np.random.uniform(tau[0],tau[-1],size=100*n)\n",
    "\n",
    "    Input_args = []\n",
    "    for k in range(K):\n",
    "        np.random.seed(k)                \n",
    "        theta=np.zeros((p,n_states+2))\n",
    "        for j in range(n_states):\n",
    "            theta[:,j]=np.random.lognormal(loga_mu, loga_sd,size=p)\n",
    "        theta[:,-2:]=np.random.lognormal(logb_mu,logb_sd,size=(p,2))\n",
    "        theta[:,:n_states]/=theta[:,-2,None]\n",
    "\n",
    "        true_t = []\n",
    "        Y = np.zeros((n*L,p,2)) \n",
    "        for l in range(L):\n",
    "            t = np.random.choice(t_samples,n)\n",
    "            theta_l = np.concatenate((theta[:,topo[l]], theta[:,-2:]), axis=1)\n",
    "            Y[l*n:(l+1)*n] = get_Y(theta_l,t,true_tau) # m*p*2\n",
    "            true_t = np.append(true_t,t)\n",
    "\n",
    "        if rd_var > 0:\n",
    "            read_depth = np.random.gamma(1/rd_var,rd_var,n*L)\n",
    "            rd = read_depth/read_depth.mean()\n",
    "        else:\n",
    "            rd = np.ones(n*L)\n",
    "\n",
    "        X = np.random.poisson(rd[:,None,None]*Y)      \n",
    "\n",
    "        params={'r':rd}\n",
    "        Input_args.append((X, Y, true_t, theta, params))\n",
    "    \n",
    "    with Pool(cores) as pool:      \n",
    "        results = pool.starmap(fit_model_wrapper, Input_args, chunksize=1)\n",
    "    \n",
    "    return results\n"
   ]
  },
  {
   "cell_type": "code",
   "execution_count": null,
   "id": "4a97df95",
   "metadata": {},
   "outputs": [],
   "source": [
    "results = vary_model_topo1(n=2000, p=200, t_samples=None, K=100,\\\n",
    "                           n_init=10, epoch=100, m=100, cores=50,\\\n",
    "                           loga_mu=2, loga_sd=1, logb_mu=1, logb_sd=0.5, rd_var=0)\n",
    "with open(results_dir+'topo_1_2000.pickle', 'wb') as f:\n",
    "    pickle.dump(results, f, pickle.HIGHEST_PROTOCOL)"
   ]
  },
  {
   "cell_type": "code",
   "execution_count": null,
   "id": "8b94fb2b",
   "metadata": {},
   "outputs": [],
   "source": []
  }
 ],
 "metadata": {
  "kernelspec": {
   "display_name": "Python 3 (ipykernel)",
   "language": "python",
   "name": "python3"
  },
  "language_info": {
   "codemirror_mode": {
    "name": "ipython",
    "version": 3
   },
   "file_extension": ".py",
   "mimetype": "text/x-python",
   "name": "python",
   "nbconvert_exporter": "python",
   "pygments_lexer": "ipython3",
   "version": "3.9.12"
  }
 },
 "nbformat": 4,
 "nbformat_minor": 5
}
